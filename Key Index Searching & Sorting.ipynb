{
 "cells": [
  {
   "cell_type": "code",
   "execution_count": 83,
   "metadata": {},
   "outputs": [
    {
     "name": "stdout",
     "output_type": "stream",
     "text": [
      "[4, -2, 3, -4, 7, 4]\n",
      "True\n",
      "[-4, -2, 3, 4, 4, 7]\n"
     ]
    }
   ],
   "source": [
    "#Task 1\n",
    "class KeyIndex:\n",
    "    k=[]\n",
    "   \n",
    "    def __init__(self,a):\n",
    "        self.a=a\n",
    "        \n",
    "        def maximum(a,l):\n",
    "            if l==0:\n",
    "                return a[0]\n",
    "            else:\n",
    "                if a[l-1]>maximum(a,l-1):\n",
    "                    return a[l-1]\n",
    "                else:\n",
    "                    return maximum(a,l-1)\n",
    "        \n",
    "        def minimum(a,l):\n",
    "            if l==0:\n",
    "                return a[0]\n",
    "            else:\n",
    "                if a[l-1]<minimum(a,l-1):\n",
    "                    return a[l-1]\n",
    "                else:\n",
    "                    return minimum(a,l-1)\n",
    "        \n",
    "        self.min=minimum(a,len(a))\n",
    "        \n",
    "        if self.min<0: \n",
    "            for j in range(0,len(a)):\n",
    "                a[j]=a[j]+(self.min*-1)\n",
    "                \n",
    "        max=maximum(a,len(a))\n",
    "        for i in range(0,max+1):\n",
    "            self.k.append(0)\n",
    "            \n",
    "        for s in a:\n",
    "            self.k[s]+=1\n",
    "    \n",
    "    def search(self,val):\n",
    "        if(self.min<0):\n",
    "            val+=(self.min*-1)\n",
    "            \n",
    "        if self.k[val]>0:\n",
    "            return True\n",
    "        else:\n",
    "            return False\n",
    "        \n",
    "    def sort(self):\n",
    "        j=0\n",
    "        while j<len(self.a):\n",
    "            for i in range(0,len(self.k)):\n",
    "                if self.k[i]==0:\n",
    "                    continue\n",
    "                else:\n",
    "                    for s in range(0,self.k[i]):\n",
    "                        self.a[j]=i\n",
    "                        j+=1\n",
    "                        \n",
    "        if self.min<0:\n",
    "            for idx in range(0,len(self.a)):\n",
    "                self.a[idx]=self.a[idx]+self.min\n",
    "            \n",
    "        return(self.a) \n",
    "        \n",
    "\n",
    "array=[4,-2,3,-4,7,4]\n",
    "print(array)\n",
    "a=KeyIndex(array)\n",
    "print(a.search(4))\n",
    "print(a.sort())\n",
    "\n",
    "\n",
    "\n",
    "\n",
    "    "
   ]
  },
  {
   "cell_type": "code",
   "execution_count": null,
   "metadata": {},
   "outputs": [],
   "source": []
  },
  {
   "cell_type": "code",
   "execution_count": null,
   "metadata": {},
   "outputs": [],
   "source": []
  }
 ],
 "metadata": {
  "kernelspec": {
   "display_name": "Python 3",
   "language": "python",
   "name": "python3"
  },
  "language_info": {
   "codemirror_mode": {
    "name": "ipython",
    "version": 3
   },
   "file_extension": ".py",
   "mimetype": "text/x-python",
   "name": "python",
   "nbconvert_exporter": "python",
   "pygments_lexer": "ipython3",
   "version": "3.7.6"
  }
 },
 "nbformat": 4,
 "nbformat_minor": 4
}
