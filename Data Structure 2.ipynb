{
 "cells": [
  {
   "cell_type": "code",
   "execution_count": 3,
   "metadata": {},
   "outputs": [
    {
     "name": "stdout",
     "output_type": "stream",
     "text": [
      "27\n"
     ]
    }
   ],
   "source": [
    "def powerN(base,n):\n",
    "    if (n==0):\n",
    "        return 1\n",
    "    elif (n%2==0):\n",
    "        return (powerN(base,n/2)* powerN(base,n/2))\n",
    "    else:\n",
    "        return (base*powerN(base,(n-1)/2)* powerN(base,(n-1)/2))\n",
    "\n",
    "print(powerN(3,3))\n",
    "    "
   ]
  },
  {
   "cell_type": "code",
   "execution_count": 4,
   "metadata": {},
   "outputs": [
    {
     "name": "stdout",
     "output_type": "stream",
     "text": [
      "Continue:  5\n",
      "Continue:  4\n",
      "Continue:  3\n",
      "Continue:  2\n",
      "Stop:  1\n",
      "Finally  15\n"
     ]
    }
   ],
   "source": [
    "class Trace:\n",
    "    def hMB(self,h):\n",
    "        if (h==0):\n",
    "            print(\"Stop: \",h)\n",
    "            return 0\n",
    "        elif(h==1):\n",
    "            print(\"Stop: \",h)\n",
    "            return h\n",
    "        else:\n",
    "            print(\"Continue: \",h)\n",
    "            return h + self.hMB(h-1)\n",
    "        \n",
    "#Tester\n",
    "t = Trace()\n",
    "print(\"Finally \",t.hMB(5))"
   ]
  },
  {
   "cell_type": "code",
   "execution_count": 9,
   "metadata": {},
   "outputs": [
    {
     "name": "stdout",
     "output_type": "stream",
     "text": [
      "18\n"
     ]
    }
   ],
   "source": [
    "def hocBuilder (height):\n",
    "    if height==0:\n",
    "        return 0\n",
    "    elif height==1:\n",
    "        return 8\n",
    "    else:\n",
    "        return (5+hocBuilder(height-1))\n",
    "    \n",
    "\n",
    "print(hocBuilder(3))\n",
    "    "
   ]
  },
  {
   "cell_type": "code",
   "execution_count": 55,
   "metadata": {},
   "outputs": [
    {
     "name": "stdout",
     "output_type": "stream",
     "text": [
      "Enter5\n",
      "1\n",
      "12\n",
      "123\n",
      "1234\n",
      "12345\n"
     ]
    }
   ],
   "source": [
    "a=int(input(\"Enter\"))\n",
    "def line(n):\n",
    "    if n==0:\n",
    "        return 0\n",
    "    else:\n",
    "        result=line(n-1)+1\n",
    "        print (result,end=\"\")\n",
    "        return result\n",
    "\n",
    "def pattern(n):\n",
    "    if n==a+1:\n",
    "        return\n",
    "    else:\n",
    "        line(n)\n",
    "        print(\"\\r\")\n",
    "        return(pattern(n+1))\n",
    "        \n",
    "pattern(1)"
   ]
  },
  {
   "cell_type": "code",
   "execution_count": 121,
   "metadata": {},
   "outputs": [
    {
     "name": "stdout",
     "output_type": "stream",
     "text": [
      "Enter: 5\n",
      "    1\n",
      "   12\n",
      "  123\n",
      " 1234\n",
      "12345\n"
     ]
    }
   ],
   "source": [
    "a=int(input(\"Enter: \"))\n",
    "\n",
    "def space(n):\n",
    "    if n==0:\n",
    "        return \" \" \n",
    "    elif n==-1:\n",
    "        return \"\"\n",
    "    else:\n",
    "        return \" \"+space(n-1)\n",
    "        \n",
    "def line(n):\n",
    "    if n==0:\n",
    "        return 0\n",
    "    else:\n",
    "        result=line(n-1)+1\n",
    "        print (result,end=\"\")\n",
    "        return result\n",
    "\n",
    "def pattern(n):\n",
    "    if n==a+1:\n",
    "        return\n",
    "    else:\n",
    "        gap=space(a-n-1)\n",
    "        print(gap,end=\"\")\n",
    "        line(n)\n",
    "        print(\"\\r\")\n",
    "        return(pattern(n+1))\n",
    "        \n",
    "pattern(1)"
   ]
  },
  {
   "cell_type": "code",
   "execution_count": 1,
   "metadata": {},
   "outputs": [
    {
     "name": "stdout",
     "output_type": "stream",
     "text": [
      "3  2  4  "
     ]
    }
   ],
   "source": [
    "def binary_search(a,i,length,key):\n",
    "    if i>length:\n",
    "        return i\n",
    "    else:\n",
    "        mid=int((i+length)/2)\n",
    "        if (key==a[mid]):\n",
    "            return (mid)\n",
    "        elif (key>a[mid]):\n",
    "            return binary_search(a,mid+1,length,key)\n",
    "        else:\n",
    "            return binary_search(a,i,mid-1,key)\n",
    "        \n",
    "def compare(array1,array2,length1,length2):\n",
    "    for i in range(0,length2):\n",
    "        if array2[i] in array1:\n",
    "            index=binary_search(array1,0,length1,array2[i])\n",
    "            a=index+1\n",
    "            while a<length1:\n",
    "                if array1[a]==array1[index]:\n",
    "                    index+=1\n",
    "                else:\n",
    "                    break\n",
    "                a+=1\n",
    "            count=index+1\n",
    "        elif (array2[i]>array1[length1-1]):\n",
    "            count=length1\n",
    "        else:\n",
    "            index=binary_search(array1,0,length1,array2[i])\n",
    "            count=index\n",
    "\n",
    "        print(count,\" \",end='')\n",
    "    return\n",
    "\n",
    "\n",
    "a=5\n",
    "b=3\n",
    "Arr1=[1,3,5,7,9]\n",
    "Arr2=[6,4,8]\n",
    "compare(Arr1,Arr2,a,b)"
   ]
  },
  {
   "cell_type": "code",
   "execution_count": 29,
   "metadata": {
    "scrolled": false
   },
   "outputs": [
    {
     "name": "stdout",
     "output_type": "stream",
     "text": [
      "Investment:  25000 ; Profit:  0.0\n",
      "Investment:  100000 ; Profit:  3375.0\n",
      "Investment:  250000 ; Profit:  15375.0\n",
      "Investment:  350000 ; Profit:  23375.0\n"
     ]
    }
   ],
   "source": [
    "class FinalQ:\n",
    "    def Print(self,array,idx):\n",
    "        if(idx<len(array)):\n",
    "            profit = self.calcProfit(array[idx])\n",
    "            print(\"Investment: \",array[idx],\"; Profit: \",profit)\n",
    "            return (self.Print(array,idx+1))\n",
    "        else:\n",
    "            return\n",
    "        \n",
    " \n",
    "    def calcProfit(self,investment):\n",
    "        setup=25000\n",
    "        if investment<=25000:\n",
    "            return 0.0\n",
    "        elif investment<=100000:\n",
    "            return (45+self.calcProfit(investment-1000))\n",
    "        else:\n",
    "            return (80+self.calcProfit(investment-1000))\n",
    " \n",
    "#Tester\n",
    "array=[25000,100000,250000,350000]\n",
    "f = FinalQ()\n",
    "f.Print(array,0)"
   ]
  },
  {
   "cell_type": "code",
   "execution_count": 25,
   "metadata": {},
   "outputs": [
    {
     "name": "stdout",
     "output_type": "stream",
     "text": [
      "Enter the number of players :- 3\n",
      "Enter the dice sequence - 152\n"
     ]
    },
    {
     "data": {
      "text/plain": [
       "2"
      ]
     },
     "execution_count": 25,
     "metadata": {},
     "output_type": "execute_result"
    }
   ],
   "source": [
    "player=int(input(\"Enter the number of players :- \"))\n",
    "dice=input(\"Enter the dice sequence - \")\n",
    "\n",
    "seating=[]\n",
    "for i in range(1,player+1):\n",
    "    seating.append(i)\n",
    "    \n",
    "def Friday_Fun(player,index,i):\n",
    "    if player==1:\n",
    "        return \"Need more than 1 player!\"\n",
    "    elif len(dice)!=player:\n",
    "        return \"Error\"\n",
    "    elif len(array)==1:\n",
    "        return array[0]    \n",
    "    else:\n",
    "        turn=int(dice[i])\n",
    "        if turn==1  or turn==6:\n",
    "            index=(index+1)%len(array)\n",
    "            i=(i+1)%player\n",
    "            return (Friday_Fun(player,index,i))\n",
    "        elif turn==3  or turn==5:\n",
    "            index=(index+1)%len(array)\n",
    "            i=(i+1)%player\n",
    "            return (Friday_Fun(player,index,i))\n",
    "        elif turn==2  or turn==4:\n",
    "            array.pop(index)\n",
    "            i=(i+1)%player\n",
    "            return (Friday_Fun(player,index,i)) \n",
    "        else:\n",
    "            return \"Biased dice!\"\n",
    "        \n",
    "Friday_Fun(player,0,0)\n",
    "        \n",
    "        \n",
    "    "
   ]
  },
  {
   "cell_type": "code",
   "execution_count": 26,
   "metadata": {},
   "outputs": [
    {
     "name": "stdout",
     "output_type": "stream",
     "text": [
      "h( 4 )\n",
      "going down\n",
      "h( 3 )\n",
      "going down\n",
      "h( 2 )\n",
      "going down\n",
      "h( 1 )\n",
      "going down\n",
      "h( 0 )\n",
      "value: 0\n",
      "h( 1 ) -->  1\n",
      "h( 2 ) -->  2\n",
      "h( 3 ) -->  3\n",
      "h( 4 ) -->  4\n"
     ]
    },
    {
     "data": {
      "text/plain": [
       "4"
      ]
     },
     "execution_count": 26,
     "metadata": {},
     "output_type": "execute_result"
    }
   ],
   "source": [
    "class Surprise:\n",
    "    def mystery(self,n):\n",
    "        print(\"h(\" ,n,\")\")\n",
    "        if(n==0):\n",
    "            print(\"value: 0\")\n",
    "            return 0\n",
    "        else:\n",
    "            print(\"going down\")\n",
    "            temp = self.mystery(n-1)+1\n",
    "            print(\"h(\",n,\") --> \",temp)\n",
    "            return temp\n",
    "#Tester\n",
    "s = Surprise()\n",
    "s.mystery(4)"
   ]
  },
  {
   "cell_type": "code",
   "execution_count": 7,
   "metadata": {},
   "outputs": [
    {
     "name": "stdout",
     "output_type": "stream",
     "text": [
      "Enter the number of players :- 3\n",
      "Enter the dice sequence - acb\n"
     ]
    },
    {
     "data": {
      "text/plain": [
       "1"
      ]
     },
     "execution_count": 7,
     "metadata": {},
     "output_type": "execute_result"
    }
   ],
   "source": [
    "player=int(input(\"Enter the number of players :- \"))\n",
    "music=input(\"Enter the dice sequence - \")\n",
    "\n",
    "seating=[]\n",
    "for i in range(1,player+1):\n",
    "    seating.append(i)\n",
    "    \n",
    "def Friday_Fun(player,index,i):\n",
    "    if player==1:\n",
    "        return \"Need more than 1 player!\"\n",
    "    elif len(music)!=player:\n",
    "        return \"Error\"\n",
    "    elif len(seating)==1:\n",
    "        return seating[0]    \n",
    "    else:\n",
    "        turn=(music[i])\n",
    "        if turn==\"a\":\n",
    "            index=(index+1)%len(seating)\n",
    "            i=(i+1)%player\n",
    "            return (Friday_Fun(player,index,i))\n",
    "        elif turn==\"b\":\n",
    "            index=(index+1)%len(seating)\n",
    "            i=(i+1)%player\n",
    "            return (Friday_Fun(player,index,i))\n",
    "        elif turn==\"c\":\n",
    "            seating.pop(index)\n",
    "            i=(i+1)%player\n",
    "            return (Friday_Fun(player,index,i)) \n",
    "        else:\n",
    "            return \"Error\"\n",
    "        \n",
    "Friday_Fun(player,0,0)\n",
    "        \n",
    "        \n",
    "    "
   ]
  },
  {
   "cell_type": "code",
   "execution_count": null,
   "metadata": {},
   "outputs": [],
   "source": []
  }
 ],
 "metadata": {
  "kernelspec": {
   "display_name": "Python 3",
   "language": "python",
   "name": "python3"
  },
  "language_info": {
   "codemirror_mode": {
    "name": "ipython",
    "version": 3
   },
   "file_extension": ".py",
   "mimetype": "text/x-python",
   "name": "python",
   "nbconvert_exporter": "python",
   "pygments_lexer": "ipython3",
   "version": "3.7.6"
  }
 },
 "nbformat": 4,
 "nbformat_minor": 4
}
