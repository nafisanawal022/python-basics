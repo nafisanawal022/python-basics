{
 "cells": [
  {
   "cell_type": "code",
   "execution_count": 3,
   "metadata": {},
   "outputs": [
    {
     "name": "stdout",
     "output_type": "stream",
     "text": [
      "6\n",
      "35\n",
      "10\n",
      "12\n",
      "90\n",
      "90\n",
      "None\n"
     ]
    },
    {
     "ename": "TypeError",
     "evalue": "unsupported operand type(s) for %: 'NoneType' and 'int'",
     "output_type": "error",
     "traceback": [
      "\u001b[1;31m---------------------------------------------------------------------------\u001b[0m",
      "\u001b[1;31mTypeError\u001b[0m                                 Traceback (most recent call last)",
      "\u001b[1;32m<ipython-input-3-7ecdabbe69ca>\u001b[0m in \u001b[0;36m<module>\u001b[1;34m\u001b[0m\n\u001b[0;32m     85\u001b[0m \u001b[1;31m#ist1.printList()\u001b[0m\u001b[1;33m\u001b[0m\u001b[1;33m\u001b[0m\u001b[1;33m\u001b[0m\u001b[0m\n\u001b[0;32m     86\u001b[0m \u001b[1;31m#st1.printDuplicate()\u001b[0m\u001b[1;33m\u001b[0m\u001b[1;33m\u001b[0m\u001b[1;33m\u001b[0m\u001b[0m\n\u001b[1;32m---> 87\u001b[1;33m \u001b[0mlist1\u001b[0m\u001b[1;33m.\u001b[0m\u001b[0mremove_multiple_of_five\u001b[0m\u001b[1;33m(\u001b[0m\u001b[1;33m)\u001b[0m\u001b[1;33m\u001b[0m\u001b[1;33m\u001b[0m\u001b[0m\n\u001b[0m\u001b[0;32m     88\u001b[0m \u001b[0mlist1\u001b[0m\u001b[1;33m.\u001b[0m\u001b[0mprintList\u001b[0m\u001b[1;33m(\u001b[0m\u001b[1;33m)\u001b[0m\u001b[1;33m\u001b[0m\u001b[1;33m\u001b[0m\u001b[0m\n",
      "\u001b[1;32m<ipython-input-3-7ecdabbe69ca>\u001b[0m in \u001b[0;36mremove_multiple_of_five\u001b[1;34m(self)\u001b[0m\n\u001b[0;32m     59\u001b[0m         \u001b[0mn\u001b[0m\u001b[1;33m=\u001b[0m\u001b[0mself\u001b[0m\u001b[1;33m.\u001b[0m\u001b[0mhead\u001b[0m\u001b[1;33m\u001b[0m\u001b[1;33m\u001b[0m\u001b[0m\n\u001b[0;32m     60\u001b[0m         \u001b[1;32mwhile\u001b[0m \u001b[1;33m(\u001b[0m\u001b[0mn\u001b[0m\u001b[1;33m!=\u001b[0m\u001b[1;32mNone\u001b[0m \u001b[1;32mor\u001b[0m \u001b[0mself\u001b[0m\u001b[1;33m.\u001b[0m\u001b[0mcount\u001b[0m\u001b[1;33m!=\u001b[0m\u001b[1;36m0\u001b[0m\u001b[1;33m)\u001b[0m\u001b[1;33m:\u001b[0m\u001b[1;33m\u001b[0m\u001b[1;33m\u001b[0m\u001b[0m\n\u001b[1;32m---> 61\u001b[1;33m             \u001b[1;32mif\u001b[0m\u001b[1;33m(\u001b[0m\u001b[0mn\u001b[0m\u001b[1;33m.\u001b[0m\u001b[0melement\u001b[0m\u001b[1;33m%\u001b[0m\u001b[1;36m5\u001b[0m\u001b[1;33m==\u001b[0m\u001b[1;36m0\u001b[0m\u001b[1;33m)\u001b[0m\u001b[1;33m:\u001b[0m\u001b[1;33m\u001b[0m\u001b[1;33m\u001b[0m\u001b[0m\n\u001b[0m\u001b[0;32m     62\u001b[0m                 \u001b[1;32mif\u001b[0m\u001b[1;33m(\u001b[0m\u001b[0mself\u001b[0m\u001b[1;33m.\u001b[0m\u001b[0mcount\u001b[0m\u001b[1;33m==\u001b[0m\u001b[1;36m1\u001b[0m\u001b[1;33m)\u001b[0m\u001b[1;33m:\u001b[0m\u001b[1;33m\u001b[0m\u001b[1;33m\u001b[0m\u001b[0m\n\u001b[0;32m     63\u001b[0m                     \u001b[0mprint\u001b[0m\u001b[1;33m(\u001b[0m\u001b[0mn\u001b[0m\u001b[1;33m.\u001b[0m\u001b[0melement\u001b[0m\u001b[1;33m)\u001b[0m\u001b[1;33m\u001b[0m\u001b[1;33m\u001b[0m\u001b[0m\n",
      "\u001b[1;31mTypeError\u001b[0m: unsupported operand type(s) for %: 'NoneType' and 'int'"
     ]
    }
   ],
   "source": [
    "class Node:\n",
    "    \n",
    "    def __init__(self,element,next):\n",
    "        self.element= element\n",
    "        self.next=next\n",
    "        \n",
    "    def printNode(self):\n",
    "        print(self.element, \"-\", self.next)\n",
    "        \n",
    "\n",
    "        \n",
    "class MyList:\n",
    "   \n",
    "    def __init__(self,a):\n",
    "        self.head = None\n",
    "        tail = None\n",
    "        for i in a:\n",
    "            n=Node(i,None)\n",
    "            if (self.head is None):\n",
    "                self.head=n\n",
    "                tail=n\n",
    "            else:\n",
    "                tail.next = n\n",
    "                tail = n\n",
    "       \n",
    "        count=0\n",
    "        i=self.head\n",
    "        while(i!=None):\n",
    "            count+=1\n",
    "            i=i.next\n",
    "        self.count=count     \n",
    "    \n",
    "        \n",
    "    def printList(self):\n",
    "        n= self.head\n",
    "        while (n is not None):\n",
    "            n.printNode()\n",
    "            n=n.next\n",
    "            \n",
    "    def printDuplicate(self):\n",
    "        \n",
    "        n=self.head\n",
    "        while n!=None:\n",
    "            count=0\n",
    "            i=self.head\n",
    "            while i!=None:\n",
    "                if(n.element==i.element):\n",
    "                    count+=1\n",
    "                i=i.next\n",
    "          \n",
    "            if(count>1):\n",
    "                return n.element\n",
    "                break\n",
    "    \n",
    "            n=n.next\n",
    "        \n",
    "    \n",
    "    def remove_multiple_of_five(self):\n",
    "        n=self.head\n",
    "        while (n!=None and self.count!=0):\n",
    "            if(n.element%5==0):\n",
    "                if(self.count==1):\n",
    "                    n.element=None\n",
    "                    self.prev=None\n",
    "                else:\n",
    "                    n.element = (n.next).element\n",
    "                    n.next=n.next.next\n",
    "                    self.count-=1\n",
    "               \n",
    "                \n",
    "            else:\n",
    "                self.count-=1\n",
    "                n=n.next\n",
    "            print(n.element)\n",
    "            \n",
    "         \n",
    "                \n",
    "    \n",
    "                \n",
    "            \n",
    "        \n",
    "            \n",
    "array = ()\n",
    "list1 = MyList([5,6,35,10,12,90])\n",
    "#ist1.printList()\n",
    "#st1.printDuplicate()\n",
    "list1.remove_multiple_of_five()\n",
    "list1.printList()"
   ]
  },
  {
   "cell_type": "code",
   "execution_count": 6,
   "metadata": {},
   "outputs": [
    {
     "name": "stdout",
     "output_type": "stream",
     "text": [
      "5\n"
     ]
    }
   ],
   "source": [
    "print(2010135353%13)"
   ]
  },
  {
   "cell_type": "code",
   "execution_count": 8,
   "metadata": {},
   "outputs": [
    {
     "name": "stdout",
     "output_type": "stream",
     "text": [
      "48\n"
     ]
    }
   ],
   "source": [
    "print(2000%61)"
   ]
  },
  {
   "cell_type": "code",
   "execution_count": 1,
   "metadata": {},
   "outputs": [
    {
     "name": "stdout",
     "output_type": "stream",
     "text": [
      "0\n"
     ]
    }
   ],
   "source": [
    "def insert(self,newElement):\n",
    "        n=Node(newElement,None,None)\n",
    "        copy=self.search(newElement)\n",
    "        if (copy==False):\n",
    "            if(self.head==None):\n",
    "                self.head=n\n",
    "                n.next=n.prev=self.head\n",
    "                self.head.prev=n\n",
    "\n",
    "            else:\n",
    "                a=self.head.prev\n",
    "                a.next=n\n",
    "                n.prev=a\n",
    "                n.next=self.head\n",
    "                self.head.prev=n"
   ]
  },
  {
   "cell_type": "code",
   "execution_count": null,
   "metadata": {},
   "outputs": [],
   "source": [
    "def sum(self, list1, list2):\n",
    "        n = list1.head.next\n",
    "        m = list2.head.next\n",
    "        int1 = ''\n",
    "        int2 = ''\n",
    "        sum = 0\n",
    "        while n!=None:\n",
    "            int1 = int1 + str(n.element)\n",
    "            n = n.next\n",
    "\n",
    "        \n",
    "        while m!=None:\n",
    "            int2 = int2 + str(m.element)\n",
    "            m = m.next\n",
    "        \n",
    "        addition = int(int1) + int(int2)\n",
    "        result = str(addition)\n",
    "        \n",
    "        self.head = Node(None, None)\n",
    "        a = self.head\n",
    "        for i in result:\n",
    "            a.next = Node(i,None)\n",
    "            a = a.next\n",
    "        "
   ]
  },
  {
   "cell_type": "code",
   "execution_count": 15,
   "metadata": {},
   "outputs": [
    {
     "name": "stdout",
     "output_type": "stream",
     "text": [
      "Enter the name of the 7 playersa\n",
      "Enter the name of the 7 playersb\n",
      "Enter the name of the 7 playersc\n",
      "Enter the name of the 7 playersd\n",
      "Enter the name of the 7 playerse\n",
      "Enter the name of the 7 playersf\n",
      "Enter the name of the 7 playersg\n",
      "7\n",
      "1\n",
      "['a', 'b', 'c', 'e', 'f', 'g']\n",
      "6\n",
      "3\n",
      "6\n",
      "0\n",
      "6\n",
      "0\n",
      "6\n",
      "2\n",
      "6\n",
      "2\n",
      "6\n",
      "3\n"
     ]
    }
   ],
   "source": [
    "import random\n",
    "\n",
    "def random_producer():\n",
    "    option=[0,1,2,3]\n",
    "    return random.choice(option)\n",
    "chair=[]\n",
    "for i in range(0,7):\n",
    "    names=input(\"Enter the name of the 7 players\")\n",
    "    chair.append(names)\n",
    "p=7    \n",
    "\n",
    "for x in range(0,len(chair)):\n",
    "    r=random_producer()\n",
    "    if r==1:\n",
    "        ppl=p//2\n",
    "        chair.pop(ppl)\n",
    "        print(chair)\n",
    "        p-=1\n",
    "    else:\n",
    "        continue\n",
    "    if(x==6):\n",
    "        print(chair)\n",
    "\n",
    "    \n",
    "\n"
   ]
  },
  {
   "cell_type": "code",
   "execution_count": 10,
   "metadata": {},
   "outputs": [
    {
     "name": "stdout",
     "output_type": "stream",
     "text": [
      "3\n"
     ]
    }
   ],
   "source": [
    "print(7//2)"
   ]
  },
  {
   "cell_type": "code",
   "execution_count": null,
   "metadata": {},
   "outputs": [],
   "source": [
    "def remove_linked_list(self):\n",
    "        i=self.head\n",
    "        n=self.head\n",
    "        non_multiple_count=0\n",
    "        while(n!=None):\n",
    "            if(n.element%5!=0):\n",
    "                non_multiple_count+=1\n",
    "            n=n.next\n",
    "        print(non_multiple_count)\n",
    "        if(non_multiple_count==0):\n",
    "            a = self.head\n",
    "            if (a!=None):\n",
    "                while (self.count!=0):\n",
    "                    key= self.head.next\n",
    "                    self.head = self.head.next\n",
    "                    key= None\n",
    "                    self.count= self.count-1\n",
    "        else:\n",
    "            while(i!=None and non_multiple_count!=1):\n",
    "                elem=i.element\n",
    "    \n",
    "                if(elem%5==0):\n",
    "                    self.remove(i.element)\n",
    "                    i=i\n",
    "                else:\n",
    "                    non_multiple_count-=1\n",
    "                i=i.next\n",
    "                \n",
    "            \n",
    " \n",
    "                \n",
    "                \n",
    "   def remove(self,deletekey):\n",
    "        n=self.head\n",
    "        \n",
    "        for i in range(0,self.count-2,1):\n",
    "        \n",
    "                \n",
    "            n=n.next\n",
    "        \n",
    "        n.element = (n.next).element\n",
    "        n.next=(n.next).next\n",
    "        \n",
    "    \n",
    "    def remove(self,deletekey):\n",
    "        n=self.head\n",
    "        \n",
    "        while(n.element!=deletekey):\n",
    "            n=n.next\n",
    "        n.element = (n.next).element\n",
    "        n.next=(n.next).next\n",
    "   \n",
    "             \n",
    "            "
   ]
  }
 ],
 "metadata": {
  "kernelspec": {
   "display_name": "Python 3",
   "language": "python",
   "name": "python3"
  },
  "language_info": {
   "codemirror_mode": {
    "name": "ipython",
    "version": 3
   },
   "file_extension": ".py",
   "mimetype": "text/x-python",
   "name": "python",
   "nbconvert_exporter": "python",
   "pygments_lexer": "ipython3",
   "version": "3.7.6"
  }
 },
 "nbformat": 4,
 "nbformat_minor": 4
}
