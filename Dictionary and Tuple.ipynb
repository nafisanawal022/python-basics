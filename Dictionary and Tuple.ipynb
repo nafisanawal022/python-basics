{
 "cells": [
  {
   "cell_type": "code",
   "execution_count": null,
   "metadata": {},
   "outputs": [
    {
     "name": "stdout",
     "output_type": "stream",
     "text": [
      "Enter the key and values here: a:b,c:d\n",
      "{'a': 'b', 'c': 'd'}\n"
     ]
    }
   ],
   "source": [
    "string=input(\"Enter the key and values here: \")\n",
    "dictionary = dict((x.strip(),y.strip())\n",
    "             for x,y in (element.split(\":\")\n",
    "             for element in string.split(\",\")))\n",
    "print(dictionary)\n",
    "c=0\n",
    "while c>=0:\n",
    "    checker=input(\"Check: \")\n",
    "    if checker==\"STOP\":\n",
    "        break\n",
    "    else:\n",
    "        print(checker in dictionary.values())\n",
    "        \n",
    "        \n",
    "    c+=1\n",
    "            \n",
    "        "
   ]
  },
  {
   "cell_type": "code",
   "execution_count": null,
   "metadata": {},
   "outputs": [],
   "source": [
    "string=input(\"Enter the key and values here: \")\n",
    "dictionary = dict((x.strip(),int(y.strip()))\n",
    "             for x,y in (element.split(\":\")\n",
    "             for element in string.split(\",\")))\n",
    "print(dictionary)\n",
    "list_of_values=list(dictionary.values())\n",
    "list_of_keys=list(dictionary.keys())\n",
    "print(\"Maximum: \"+list_of_keys[list_of_values.index(max(list_of_values))])\n",
    "print(\"Minimum: \"+list_of_keys[list_of_values.index(min(list_of_values))])\n",
    "\n"
   ]
  },
  {
   "cell_type": "code",
   "execution_count": null,
   "metadata": {},
   "outputs": [],
   "source": [
    "string=input(\"Enter the key and values here: \")\n",
    "dictionary = dict((x.strip(),int(y.strip()))\n",
    "             for x,y in (element.split(\":\")\n",
    "             for element in string.split(\",\")))\n",
    "print(dictionary)\n",
    "\n",
    "maximum= max(dictionary, key=dictionary.get)\n",
    "minimum=min(dictionary,key=dictionary.get)\n",
    "print(\"Minimum: \"+minimum)\n",
    "print(\"Maximum: \"+maximum)"
   ]
  },
  {
   "cell_type": "code",
   "execution_count": null,
   "metadata": {
    "scrolled": true
   },
   "outputs": [],
   "source": [
    "dictionary={}\n",
    "i=0\n",
    "while i<10:\n",
    "    value=int(input(\"Enter the numbers: \"))\n",
    "    if value in dictionary.values():\n",
    "        print(\"Error! Enter again.\")\n",
    "        i-=1\n",
    "    else:\n",
    "        dictionary[i]=value\n",
    "    i+=1    \n",
    "\n",
    "print(dictionary)\n",
    "    \n",
    "    \n",
    "    "
   ]
  },
  {
   "cell_type": "code",
   "execution_count": 5,
   "metadata": {},
   "outputs": [
    {
     "name": "stdout",
     "output_type": "stream",
     "text": [
      "Please enter the pairs: a: 100, b: 100, c: 200, d: 300\n",
      "Please enter the pairs: a: 300, b: 200, d: 400, e: 200\n",
      "(200, 300, 400, 700)\n"
     ]
    }
   ],
   "source": [
    "string1=input(\"Please enter the pairs: \")\n",
    "string2=input(\"Please enter the pairs: \")\n",
    "dict1= dict((x.strip(),int(y.strip()))\n",
    "             for x,y in (element.split(\":\")\n",
    "             for element in string1.split(\",\")))\n",
    "\n",
    "dict2= dict((x.strip(),int(y.strip()))\n",
    "             for x,y in (element.split(\":\")\n",
    "             for element in string2.split(\",\")))\n",
    "\n",
    "\n",
    "dict_list=[]\n",
    "\n",
    "for i in dict1:\n",
    "    if i in dict2:\n",
    "        for c in dict2:\n",
    "            if i==c:\n",
    "                dict_list.append(i)\n",
    "                value=dict1[i]+dict2[c]\n",
    "                dict_list.append(value)\n",
    "        \n",
    "    else:\n",
    "        dict_list.append(i)\n",
    "        value=(dict1[i])\n",
    "        dict_list.append(value)\n",
    "        \n",
    "    if i in dict2:\n",
    "        dict2.pop(i)\n",
    "    \n",
    "        \n",
    "            \n",
    "for a in dict2:\n",
    "    dict_list.append(a)\n",
    "    value=(dict2[a])\n",
    "    dict_list.append(value)\n",
    "            \n",
    "        \n",
    "dictionary={}\n",
    "c=0\n",
    "while c<(len(dict_list)):\n",
    "    dictionary[dict_list[c]]=dict_list[c+1]\n",
    "    c+=2\n",
    "    \n",
    "print(dictionary)\n",
    "def convert(list1): \n",
    "    return tuple(list1) \n",
    "  \n",
    "list1=list(dictionary.values())\n",
    "list1.sort()\n",
    "listF=[]\n",
    "for i in list1:\n",
    "    if i not in listF:\n",
    "        listF.append(i)\n",
    "        \n",
    "        \n",
    "print(convert(listF)) \n",
    "    \n",
    "                \n",
    "            \n",
    " \n",
    "           \n",
    "    \n",
    "        \n",
    "    "
   ]
  },
  {
   "cell_type": "code",
   "execution_count": null,
   "metadata": {},
   "outputs": [],
   "source": [
    "dictionary={}\n",
    "while True:\n",
    "    letter=int(input(\"Enter: \"))\n",
    "    if letter!=\"STOP\":\n",
    "        dictionary[c]=letter\n",
    "    else:\n",
    "        break\n",
    "        \n",
    "newDictionary={}\n",
    "for i in dictionary:\n",
    "    if dictionary[i] not in newDictionary:\n",
    "        newDictionary"
   ]
  },
  {
   "cell_type": "code",
   "execution_count": null,
   "metadata": {},
   "outputs": [],
   "source": [
    "string=input(\"Enter: \")\n",
    "dictionary = dict((x.strip(),y.strip())\n",
    "             for x,y in (element.split(\":\")\n",
    "             for element in string.split(\",\")))\n",
    "\n",
    "key=list(dictionary.values())\n",
    "value=list(dictionary.keys())\n",
    "print(key,value)\n",
    "\n",
    "new_key=[]\n",
    "new_value=[]\n",
    "copy_key=key.copy()\n",
    "c=0\n",
    "while c<=len(dictionary):\n",
    "    value=[]\n",
    "    if copy_key[c]==key[c+1]:\n",
    "            \n",
    "            \n",
    "            \n",
    "\n",
    "        \n",
    "        \n"
   ]
  },
  {
   "cell_type": "code",
   "execution_count": 7,
   "metadata": {},
   "outputs": [
    {
     "name": "stdout",
     "output_type": "stream",
     "text": [
      "{1: 'Moscow', 2: 'Kiev', 3: 'Washington'}\n",
      "Kiev\n"
     ]
    }
   ],
   "source": [
    "Capitals = dict()\n",
    "\n",
    "# Fill it with some values\n",
    "Capitals[1] = 'Moscow'\n",
    "Capitals[2] = 'Kiev'\n",
    "Capitals[3] = 'Washington'\n",
    "\n",
    "print(Capitals)\n",
    "print(Capitals[2])"
   ]
  },
  {
   "cell_type": "code",
   "execution_count": null,
   "metadata": {},
   "outputs": [],
   "source": []
  }
 ],
 "metadata": {
  "kernelspec": {
   "display_name": "Python 3",
   "language": "python",
   "name": "python3"
  },
  "language_info": {
   "codemirror_mode": {
    "name": "ipython",
    "version": 3
   },
   "file_extension": ".py",
   "mimetype": "text/x-python",
   "name": "python",
   "nbconvert_exporter": "python",
   "pygments_lexer": "ipython3",
   "version": "3.7.6"
  }
 },
 "nbformat": 4,
 "nbformat_minor": 4
}
