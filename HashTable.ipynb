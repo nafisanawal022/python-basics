{
 "cells": [
  {
   "cell_type": "code",
   "execution_count": 13,
   "metadata": {},
   "outputs": [
    {
     "name": "stdout",
     "output_type": "stream",
     "text": [
      "Please enter the String :QS1E89P8A32\n",
      "Please enter the String :R739RJE20F\n",
      "Please enter the String :98F1YW420\n",
      "Please enter the String :09F7SM3562B\n",
      "Please enter the String :QS1E89P8A32\n",
      "Please enter the String :98F1YW4208\n",
      "Please enter the String :R739RJE20FG\n",
      "Please enter the String :98F1YW42081\n",
      "Please enter the String :ST1E89B8A32\n",
      "['R739RJE20F', '98F1YW42081', '09F7SM3562B', 'ST1E89B8A32', 'QS1E89P8A32', 'QS1E89P8A32', '98F1YW420', '98F1YW4208', 'R739RJE20FG']\n"
     ]
    }
   ],
   "source": [
    "#Task 2\n",
    "array=[]\n",
    "for i in range(0,9):\n",
    "    num=input(\"Please enter the String :\")\n",
    "    array.append(num)\n",
    "    \n",
    "hashTable=[]\n",
    "length=len(array)\n",
    "\n",
    "def is_int(i):\n",
    "        if (i==\"0\" or i==\"1\" or i==\"2\" or i==\"3\" or i==\"4\" or i==\"5\" or i==\"6\" or i==\"7\" or i==\"8\" or i==\"9\"):\n",
    "            return True\n",
    "        else:\n",
    "            return False\n",
    "    \n",
    "            \n",
    "def consonantCount(element):\n",
    "    count=0\n",
    "    for a in element:\n",
    "        if (a is not \"A\" and a is not \"E\" and a is not \"I\" and a is not \"O\" and a is not \"U\" ):\n",
    "            if (is_int(a)==False):\n",
    "                count+=1\n",
    "    return count\n",
    "\n",
    "for x in range(0,length):\n",
    "    hashTable.append(0)\n",
    "    \n",
    "for a in array:\n",
    "    sum=0\n",
    "    for i in a:\n",
    "        if is_int(i)==True:\n",
    "            sum+=int(i)\n",
    "    \n",
    "    value=(consonantCount(a)*24+sum)%length\n",
    "    while hashTable[value]!=0:\n",
    "        value=(value+1)%length\n",
    "    hashTable[value]=a\n",
    "\n",
    "    \n",
    "    \n",
    "print(hashTable)\n",
    "        \n",
    "    \n",
    "\n",
    "    \n",
    "            \n",
    "        \n",
    "\n",
    "\n",
    "\n",
    "    "
   ]
  },
  {
   "cell_type": "code",
   "execution_count": 7,
   "metadata": {},
   "outputs": [
    {
     "data": {
      "text/plain": [
       "['R739RJE20F',\n",
       " '98F1YW42081',\n",
       " '09F7SM3562B',\n",
       " 'ST1E89B8A32',\n",
       " 'QS1E89P8A32',\n",
       " 'QS1E89P8A32',\n",
       " '98F1YW420',\n",
       " '98F1YW4208',\n",
       " 'R739RJE20FG']"
      ]
     },
     "execution_count": 7,
     "metadata": {},
     "output_type": "execute_result"
    }
   ],
   "source": [
    "def HashTable(array):\n",
    "    \n",
    "    hashTable=[]\n",
    "    length=len(array)\n",
    "\n",
    "    def is_int(i):\n",
    "        if (i==\"0\" or i==\"1\" or i==\"2\" or i==\"3\" or i==\"4\" or i==\"5\" or i==\"6\" or i==\"7\" or i==\"8\" or i==\"9\"):\n",
    "            return True\n",
    "        else:\n",
    "            return False\n",
    "    \n",
    "            \n",
    "    def consonantCount(element):\n",
    "        count=0\n",
    "        for a in element:\n",
    "            if (a is not \"A\" and a is not \"E\" and a is not \"I\" and a is not \"O\" and a is not \"U\" ):\n",
    "                if (is_int(a)==False):\n",
    "                    count+=1\n",
    "        return count\n",
    "\n",
    "    for x in range(0,length):\n",
    "        hashTable.append(0)\n",
    "    \n",
    "    for a in array:\n",
    "        sum=0\n",
    "        for i in a:\n",
    "            if is_int(i)==True:\n",
    "                sum+=int(i)\n",
    "    \n",
    "        value=(consonantCount(a)*24+sum)%length\n",
    "        while hashTable[value]!=0:\n",
    "            value=(value+1)%length\n",
    "        hashTable[value]=a\n",
    "\n",
    "    \n",
    "    return(hashTable)\n",
    "        \n",
    "    \n",
    "a=[\"QS1E89P8A32\",\"R739RJE20F\",\"98F1YW420\",\"09F7SM3562B\",\"QS1E89P8A32\",\"98F1YW4208\",\"R739RJE20FG\",\"98F1YW42081\",\"ST1E89B8A32\"]\n",
    "HashTable(a)\n"
   ]
  },
  {
   "cell_type": "code",
   "execution_count": null,
   "metadata": {},
   "outputs": [],
   "source": []
  }
 ],
 "metadata": {
  "kernelspec": {
   "display_name": "Python 3",
   "language": "python",
   "name": "python3"
  },
  "language_info": {
   "codemirror_mode": {
    "name": "ipython",
    "version": 3
   },
   "file_extension": ".py",
   "mimetype": "text/x-python",
   "name": "python",
   "nbconvert_exporter": "python",
   "pygments_lexer": "ipython3",
   "version": "3.7.6"
  }
 },
 "nbformat": 4,
 "nbformat_minor": 4
}
