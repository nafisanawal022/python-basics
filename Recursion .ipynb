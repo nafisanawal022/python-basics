{
 "cells": [
  {
   "cell_type": "code",
   "execution_count": 5,
   "metadata": {},
   "outputs": [
    {
     "name": "stdout",
     "output_type": "stream",
     "text": [
      "[10, 2, 3, 4, 1, 1, 100, 100]\n",
      "[10, 2, 3, 4, 1, 1, 100, 100]\n",
      "[1, 2, 3, 4, 1, 10, 100, 100]\n",
      "[1, 2, 3, 1, 4, 10, 100, 100]\n",
      "[1, 2, 1, 3, 4, 10, 100, 100]\n",
      "[1, 1, 2, 3, 4, 10, 100, 100]\n",
      "[1, 1, 2, 3, 4, 10, 100, 100]\n",
      "Array selection sort- [1, 1, 2, 3, 4, 10, 100, 100]\n"
     ]
    }
   ],
   "source": [
    "#selection sort\n",
    "def maxV(a,b):\n",
    "    if a>b:\n",
    "        return a\n",
    "    else:\n",
    "        return b\n",
    "            \n",
    "def maximum(a,l):\n",
    "    if l==0:\n",
    "        return a[0]\n",
    "    return maxV(a[l-1],maximum(a,l-1))\n",
    "\n",
    "def search(a,value,i):\n",
    "    if i>=l:\n",
    "        return \"Value not found\"\n",
    "    elif a[i]==value:\n",
    "        return i\n",
    "    else:\n",
    "        return search(a,value,i+1)\n",
    "\n",
    "def selection_sort(a,l):\n",
    "    if l-1==0:\n",
    "        return a\n",
    "    else:\n",
    "        m=maximum(a,l)\n",
    "        temp=a[l-1]\n",
    "        a[l-1]=m\n",
    "        index=search(a,m,0)\n",
    "        a[index]=temp\n",
    "        \n",
    "    print(a)\n",
    "    return selection_sort(a,l-1)\n",
    "\n",
    "\n",
    "a=[10,2,3,4,1,100,100,1]\n",
    "l=len(a)\n",
    "print(\"Array selection sort-\",selection_sort(a,l))"
   ]
  },
  {
   "cell_type": "code",
   "execution_count": 10,
   "metadata": {},
   "outputs": [
    {
     "name": "stdout",
     "output_type": "stream",
     "text": [
      "[1, 2, 3, 4, 5]\n"
     ]
    }
   ],
   "source": [
    "#insertion sort\n",
    "\n",
    "def recheck(a,i):\n",
    "    j=i-1\n",
    "    while j>=0:\n",
    "        if a[i]<a[j]:\n",
    "            temp=a[j]\n",
    "            a[j]=a[i]\n",
    "            a[i]=temp\n",
    "            i=j\n",
    "        j-=1\n",
    "    return a      \n",
    "\n",
    "def insertion_sort (a,i):\n",
    "    j=i-1  \n",
    "    if i+1==l:\n",
    "        return a\n",
    "    else:\n",
    "        if(a[i]>a[i+1]):\n",
    "            temp=a[i]\n",
    "            a[i]=a[i+1]\n",
    "            a[i+1]=temp\n",
    "            recheck(a,i)\n",
    "        \n",
    "    return (insertion_sort(a,i+1))  \n",
    "   \n",
    "    \n",
    "a=[3,2,1,4,5]\n",
    "l=len(a)\n",
    "print(insertion_sort(a,0))"
   ]
  },
  {
   "cell_type": "code",
   "execution_count": 3,
   "metadata": {},
   "outputs": [
    {
     "name": "stdout",
     "output_type": "stream",
     "text": [
      "38\n",
      "[10, 27, 43, 3, 9, 82, 38]\n",
      "10\n",
      "[10, 27, 43, 3, 9, 82, 38]\n",
      "10\n",
      "[27, 10, 43, 3, 9, 82, 38]\n",
      "10\n",
      "[27, 43, 10, 3, 9, 82, 38]\n",
      "3\n",
      "[27, 43, 10, 3, 9, 82, 38]\n",
      "3\n",
      "[27, 43, 10, 9, 3, 82, 38]\n",
      "3\n",
      "[27, 43, 10, 9, 82, 3, 38]\n",
      "Array selection sort- [27, 43, 10, 9, 82, 3, 38]\n"
     ]
    }
   ],
   "source": [
    "#selection sort\n",
    "\n",
    "def search(a,value,i):\n",
    "    if i>=l:\n",
    "        return \"Value not found\"\n",
    "    elif a[i]==value:\n",
    "        return i\n",
    "    else:\n",
    "        return search(a,value,i+1)\n",
    "\n",
    "def selection_sort(a,l):\n",
    "    if l-1==0:\n",
    "        return a\n",
    "    else:\n",
    "        m=maximum(a,l)\n",
    "        temp=a[l-1]\n",
    "        a[l-1]=m\n",
    "        index=search(a,m,0)\n",
    "        a[index]=temp\n",
    "        \n",
    "    print(a)\n",
    "    return selection_sort(a,l-1)\n",
    "\n",
    "\n",
    "a=[10,2,3,4,1,100,100,1]\n",
    "l=len(a)\n",
    "print(\"Array selection sort-\",selection_sort(a,l))"
   ]
  },
  {
   "cell_type": "code",
   "execution_count": 2,
   "metadata": {},
   "outputs": [
    {
     "name": "stdout",
     "output_type": "stream",
     "text": [
      "[3, 9, 10, 27, 38, 43, 82]\n",
      "[3, 9, 10, 27, 38, 43, 82]\n",
      "[3, 9, 10, 27, 38, 43, 82]\n",
      "[3, 9, 10, 27, 38, 43, 82]\n",
      "[3, 9, 10, 27, 38, 43, 82]\n",
      "[3, 9, 10, 27, 38, 43, 82]\n",
      "[3, 9, 10, 27, 38, 43, 82]\n",
      "[3, 9, 10, 27, 38, 43, 82]\n",
      "[3, 9, 10, 27, 38, 43, 82]\n"
     ]
    }
   ],
   "source": [
    "def swap_sort(a,i):\n",
    "    if i==length-1:\n",
    "        return a\n",
    "    else:\n",
    "        \n",
    "        if (a[i]>a[i+1]):\n",
    "            temp=a[i]\n",
    "            a[i]=a[i+1]\n",
    "            a[i+1]=temp\n",
    "        return (swap_sort(a,i+1))\n",
    "    \n",
    "\n",
    "def bubble_sort(a,l):\n",
    "    \n",
    "    if l==-1:\n",
    "        print(a)\n",
    "        return a\n",
    "    else:\n",
    "        swap_sort(a,l)\n",
    "        print(a)\n",
    "        return (bubble_sort(a,l-1))\n",
    "\n",
    "a=[3, 9, 10, 27, 38, 43, 82]\n",
    "length=len(a)\n",
    "l=length-1\n",
    "print(bubble_sort(a,l))"
   ]
  },
  {
   "cell_type": "code",
   "execution_count": null,
   "metadata": {},
   "outputs": [],
   "source": []
  },
  {
   "cell_type": "code",
   "execution_count": 12,
   "metadata": {},
   "outputs": [
    {
     "name": "stdout",
     "output_type": "stream",
     "text": [
      "5 5\n"
     ]
    }
   ],
   "source": [
    "#length of a string\n",
    "a=\"abcde\"\n",
    "def length(a):\n",
    "    if a==\"\":\n",
    "        return 0\n",
    "    elif a==a[-1]:\n",
    "        return (1+length(a[1:]))\n",
    "    else:\n",
    "        return (2+length(a[2:]))\n",
    "\n",
    "c=length(a)\n",
    "\n",
    "a=\"abcde\"\n",
    "def length1(a):\n",
    "    if a==\"\":\n",
    "        return 0\n",
    "    else:\n",
    "        return (1+length(a[1:]))\n",
    "\n",
    "b=length1(a)\n",
    "print(c,b)"
   ]
  },
  {
   "cell_type": "code",
   "execution_count": 2,
   "metadata": {},
   "outputs": [
    {
     "name": "stdout",
     "output_type": "stream",
     "text": [
      "[1, 2, 3, 4, 5, 10, 12]\n"
     ]
    },
    {
     "data": {
      "text/plain": [
       "'Found at index 6'"
      ]
     },
     "execution_count": 2,
     "metadata": {},
     "output_type": "execute_result"
    }
   ],
   "source": [
    "#binary search\n",
    "def maxV(a,b):\n",
    "    if a>b:\n",
    "        return a\n",
    "    else:\n",
    "        return b\n",
    "            \n",
    "def maximum(a,l):\n",
    "    if l==0:\n",
    "        return a[0]\n",
    "    return maxV(a[l-1],maximum(a,l-1))\n",
    "\n",
    "def search(a,value,i):\n",
    "    if i>=l:\n",
    "        return \"Value not found\"\n",
    "    elif a[i]==value:\n",
    "        return i\n",
    "    else:\n",
    "        return search(a,value,i+1)\n",
    "\n",
    "def selection_sort(a,l):\n",
    "    if l-1==0:\n",
    "        return a\n",
    "    else:\n",
    "        m=maximum(a,l)\n",
    "        temp=a[l-1]\n",
    "        a[l-1]=m\n",
    "        index=search(a,m,0)\n",
    "        a[index]=temp\n",
    "\n",
    "    return selection_sort(a,l-1)\n",
    "\n",
    "def recheck(a,i):\n",
    "    j=i-1\n",
    "    while j>=0:\n",
    "        if a[i]<a[j]:\n",
    "            temp=a[j]\n",
    "            a[j]=a[i]\n",
    "            a[i]=temp\n",
    "            i=j\n",
    "        j-=1\n",
    "    return a   \n",
    "\n",
    "def binary_search(a,i,length,key):\n",
    "    if i>length:\n",
    "        return \"Error\"\n",
    "    else:\n",
    "        mid=int((i+length)/2)\n",
    "        if(key==a[mid]):\n",
    "            return (\"Found at index \"+str(mid))\n",
    "        elif (key>a[mid]):\n",
    "            return binary_search(a,mid+1,length,key)\n",
    "        else:\n",
    "            return binary_search(a,i,mid-1,key)\n",
    "        \n",
    "a=[2,10,4,3,12,1,5]\n",
    "l=len(a)\n",
    "selection_sort(a,l)\n",
    "print(a)\n",
    "binary_search(a,0,len(a),12)\n"
   ]
  },
  {
   "cell_type": "code",
   "execution_count": 3,
   "metadata": {},
   "outputs": [
    {
     "data": {
      "text/plain": [
       "'Found at index 6'"
      ]
     },
     "execution_count": 3,
     "metadata": {},
     "output_type": "execute_result"
    }
   ],
   "source": [
    "def binary_search(a,i,length,key):\n",
    "    if i>length:\n",
    "        return \"Error\"\n",
    "    else:\n",
    "        mid=int((i+length)/2)\n",
    "        if(key==a[mid]):\n",
    "            return (\"Found at index \"+str(mid))\n",
    "        elif (key>a[mid]):\n",
    "            return binary_search(a,mid+1,length,key)\n",
    "        else:\n",
    "            return binary_search(a,i,mid-1,key)\n",
    "        \n",
    "        \n",
    "a=[1,2,3,4,5,10,7,7]\n",
    "binary_search(a,0,len(a),7)\n"
   ]
  },
  {
   "cell_type": "code",
   "execution_count": 9,
   "metadata": {},
   "outputs": [
    {
     "data": {
      "text/plain": [
       "3"
      ]
     },
     "execution_count": 9,
     "metadata": {},
     "output_type": "execute_result"
    }
   ],
   "source": [
    "#Sequential search\n",
    "a=[12,20,70,40,60,50]\n",
    "length=len(a)\n",
    "\n",
    "def search(a,i,key):\n",
    "    if i==length:\n",
    "        return \"Not present\"\n",
    "    elif(a[i]==key):\n",
    "        return i\n",
    "    else:\n",
    "        return search(a,i+1,key)\n",
    "    \n",
    "search(a,0,40)"
   ]
  },
  {
   "cell_type": "code",
   "execution_count": 8,
   "metadata": {},
   "outputs": [
    {
     "name": "stdout",
     "output_type": "stream",
     "text": [
      "max- 80\n",
      "min- 10\n",
      "max_bin - 80\n",
      "min_bin - 10\n"
     ]
    }
   ],
   "source": [
    "#maximum\n",
    "def maximum(a,l):\n",
    "    if l==0:\n",
    "        return a[0]\n",
    "    else:\n",
    "        if a[l-1]>maximum(a,l-1):\n",
    "            return a[l-1]\n",
    "        else:\n",
    "            return maximum(a,l-1)\n",
    "#minimum        \n",
    "def minimum(a,l):\n",
    "    if l==0:\n",
    "        return a[0]\n",
    "    else:\n",
    "        if a[l-1]<minimum(a,l-1):\n",
    "            return a[l-1]\n",
    "        else:\n",
    "            return minimum(a,l-1)\n",
    "        \n",
    "def max_bin(a,i,right):\n",
    "    mid=int((i+right)/2)\n",
    "    if i==right:\n",
    "        return a[mid]\n",
    "    else:\n",
    "        \n",
    "        maxLeftHalf=max_bin(a,i,mid)\n",
    "        maxRightHalf=max_bin(a,mid+1,right)\n",
    "        if maxLeftHalf<maxRightHalf:\n",
    "            return maxRightHalf\n",
    "        else:\n",
    "            return maxLeftHalf\n",
    "        \n",
    "def min_bin(a,i,right):\n",
    "    mid=int((i+right)/2)\n",
    "    if i==right:\n",
    "        return a[mid]\n",
    "    else:\n",
    "        \n",
    "        minLeftHalf=min_bin(a,i,mid)\n",
    "        minRightHalf=min_bin(a,mid+1,right)\n",
    "        if minLeftHalf<minRightHalf:\n",
    "            return minLeftHalf\n",
    "        else:\n",
    "            return minRightHalf\n",
    "        \n",
    "a=[10,25,45,67,80,13]\n",
    "l=len(a)\n",
    "right=l-1\n",
    "print(\"max-\",maximum(a,l))\n",
    "print(\"min-\",minimum(a,l))\n",
    "print(\"max_bin -\",max_bin(a,0,right)) \n",
    "print(\"min_bin -\",min_bin(a,0,right)) \n"
   ]
  },
  {
   "cell_type": "code",
   "execution_count": 13,
   "metadata": {},
   "outputs": [
    {
     "name": "stdout",
     "output_type": "stream",
     "text": [
      "720\n"
     ]
    }
   ],
   "source": [
    "#factorial\n",
    "def factorial(n):\n",
    "\n",
    "    #if (n==0) or (n==1):\n",
    "    if(n==1):\n",
    "        return 1\n",
    "    else:\n",
    "        return (n*factorial(n-1))\n",
    "    \n",
    "print(factorial(6))\n",
    "\n"
   ]
  },
  {
   "cell_type": "code",
   "execution_count": 14,
   "metadata": {},
   "outputs": [
    {
     "name": "stdout",
     "output_type": "stream",
     "text": [
      "220\n",
      "220\n",
      "Sum- 55\n"
     ]
    }
   ],
   "source": [
    "#sum\n",
    "\n",
    "a=[0,20,30,40,60,70]\n",
    "length=len(a)\n",
    "last=length-1\n",
    "def sum(a,i):\n",
    "    if length==i:\n",
    "        return 0\n",
    "    return (a[i]+sum(a,i+1))\n",
    "   \n",
    "print(sum(a,0))   \n",
    "\n",
    "#sum with mid\n",
    "\n",
    "a=[0,20,30,40,60,70]\n",
    "length=len(a)\n",
    "l=length-1\n",
    "def sum(a,i,l):\n",
    "    m=int((i+l)/2)\n",
    "    if l==i:\n",
    "        return a[m]\n",
    "    else:\n",
    "        return (sum(a,i,m)+sum(a,m+1,l))\n",
    "\n",
    "\n",
    "print(sum(a,0,l))   \n",
    "\n",
    "#sum of integers 1 through N\n",
    "\n",
    "def sum(n):\n",
    "    if n==1:\n",
    "        return n\n",
    "    else:\n",
    "        return (n+sum(n-1))\n",
    "    \n",
    "print(\"Sum-\",sum(10))  "
   ]
  },
  {
   "cell_type": "code",
   "execution_count": 16,
   "metadata": {},
   "outputs": [
    {
     "name": "stdout",
     "output_type": "stream",
     "text": [
      "exp1- 125\n",
      "exp- 125\n",
      "exp2- 125\n",
      "exp3- 125\n"
     ]
    }
   ],
   "source": [
    "#exponentiation\n",
    "def exp1(a,n):\n",
    "    if (n==0):\n",
    "        return 1\n",
    "    else:\n",
    "        return (a*exp1(a,n-1))\n",
    "    \n",
    "print(\"exp1-\",exp1(5,3))\n",
    "\n",
    "#BEST WAY\n",
    "def exp(a,n):\n",
    "    if (n==0):\n",
    "        return 1\n",
    "    elif (n%2==0):\n",
    "        return (exp(a,n/2)* exp(a,n/2))\n",
    "    else:\n",
    "        return (a*exp(a,(n-1)/2)* exp(a,(n-1)/2))\n",
    "    \n",
    "    \n",
    "print(\"exp-\",exp(5,3))\n",
    "\n",
    "\n",
    "def exp2(a,n):\n",
    "    if (n==0):\n",
    "        return 1\n",
    "    elif (n==1):\n",
    "        return a\n",
    "    else:\n",
    "        return (a*a*exp2(a,(n-2)))\n",
    "    \n",
    "    \n",
    "print(\"exp2-\",exp2(5,3))\n",
    "    \n",
    "\n",
    "def exp3(a,n):\n",
    "    if (n==0):\n",
    "        return 1\n",
    "    elif (n%3==0):\n",
    "        return (exp3(a,int(n/3))* exp3(a,int(n/3))*exp3(a,int(n/3)))\n",
    "    elif (n%3==1):\n",
    "        return (a*exp3(a,int(n/3))* exp3(a,int(n/3))*exp3(a,int(n/3)))\n",
    "    else:\n",
    "        return (a*a*exp3(a,int(n/3))* exp3(a,int(n/3))*exp3(a,int(n/3)))\n",
    "        \n",
    "print(\"exp3-\",exp3(5,3))\n",
    "\n"
   ]
  },
  {
   "cell_type": "code",
   "execution_count": 3,
   "metadata": {},
   "outputs": [
    {
     "name": "stdout",
     "output_type": "stream",
     "text": [
      "T\n"
     ]
    }
   ],
   "source": [
    "if \"a\"<\"b\":\n",
    "    print (\"T\")"
   ]
  },
  {
   "cell_type": "code",
   "execution_count": 17,
   "metadata": {},
   "outputs": [
    {
     "name": "stdout",
     "output_type": "stream",
     "text": [
      "method-1 -->  91\n",
      "method-2 -->  91\n"
     ]
    }
   ],
   "source": [
    "#convert binary to decimal (method 1)\n",
    "a=\"1011011\"\n",
    "length=len(a)\n",
    "l=length-1\n",
    "\n",
    "def exp(a,n):\n",
    "    if (n==0):\n",
    "        return 1\n",
    "    elif (n%2==0):\n",
    "        return (exp(a,n/2)* exp(a,n/2))\n",
    "    else:\n",
    "        return (a*exp(a,(n-1)/2)* exp(a,(n-1)/2))\n",
    "    \n",
    "def convert(a,i,l):\n",
    "    if i==length and l==-1:\n",
    "        return 0\n",
    "    elif (a[i]==\"0\"):\n",
    "        return (0+ convert(a,i+1,l-1))\n",
    "    else:\n",
    "        return (exp(2,l)+ convert(a,i+1,l-1))\n",
    "    \n",
    "print(\"method-1 --> \",convert(a,0,l))\n",
    "\n",
    "#convert binary to decimal (method 2)\n",
    "def bin_to_dec(string,i,num):\n",
    "    if len(string)==i:\n",
    "        return num\n",
    "    else:\n",
    "        if string[i]==\"0\":\n",
    "            num=2*num\n",
    "        else:\n",
    "            num=2*num +1\n",
    "        \n",
    "    return bin_to_dec(string,i+1,num)\n",
    "\n",
    "print(\"method-2 --> \",bin_to_dec(a,0,0))\n",
    "\n"
   ]
  },
  {
   "cell_type": "code",
   "execution_count": 18,
   "metadata": {},
   "outputs": [
    {
     "name": "stdout",
     "output_type": "stream",
     "text": [
      "567.8\n",
      "8\n"
     ]
    },
    {
     "data": {
      "text/plain": [
       "36"
      ]
     },
     "execution_count": 18,
     "metadata": {},
     "output_type": "execute_result"
    }
   ],
   "source": [
    "#sum of digits\n",
    "\n",
    "print(5678/10)\n",
    "print(5678%10)\n",
    "\n",
    "def sum_of_digits(num,sum):\n",
    "    if num==0:\n",
    "        return sum\n",
    "    return sum_of_digits(int(num/10),sum+(num%10))\n",
    "\n",
    "sum_of_digits(827475021,0)"
   ]
  },
  {
   "cell_type": "code",
   "execution_count": 20,
   "metadata": {},
   "outputs": [
    {
     "data": {
      "text/plain": [
       "126"
      ]
     },
     "execution_count": 20,
     "metadata": {},
     "output_type": "execute_result"
    }
   ],
   "source": [
    "#Grid walking function\n",
    "\n",
    "def grid_walk(m,n):\n",
    "    if m<0 or n<0:\n",
    "        return 0\n",
    "    if m==0 or n==0:\n",
    "        return 1\n",
    "    else:\n",
    "        return grid_walk(m-1,n)+grid_walk(m,n-1)\n",
    "    \n",
    "a=5\n",
    "b=4\n",
    "grid_walk(a,b)"
   ]
  },
  {
   "cell_type": "code",
   "execution_count": 6,
   "metadata": {},
   "outputs": [
    {
     "name": "stdout",
     "output_type": "stream",
     "text": [
      "13\n",
      "8\n",
      "[0, 1, 1, 2, 3, 5, 8]\n"
     ]
    }
   ],
   "source": [
    "#Grid tiling function and fibonacci\n",
    "\n",
    "def fib(n):\n",
    "    if (n==0):\n",
    "        return 0\n",
    "    elif (n==1):\n",
    "        return 1\n",
    "    return (fib(n-1)+fib(n-2))\n",
    "\n",
    "print(fib(7))\n",
    "\n",
    "def fibonacci(n):\n",
    "    \n",
    "    if (n in memory):\n",
    "        return memory[n]\n",
    "    if (n==0 or n==1):\n",
    "        memory[n]=1\n",
    "    else:\n",
    "        memory[n]=(fibonacci(n-1)+fibonacci(n-2))\n",
    "        \n",
    "    return memory[n]\n",
    "\n",
    "size=6\n",
    "memory=[]\n",
    "for i in range(0,size+1):\n",
    "    memory.append(0)\n",
    "    \n",
    "print(fibonacci(size))\n",
    "print(memory)"
   ]
  },
  {
   "cell_type": "code",
   "execution_count": 32,
   "metadata": {
    "scrolled": true
   },
   "outputs": [
    {
     "name": "stdout",
     "output_type": "stream",
     "text": [
      "length- 8\n",
      "Sum- 293\n",
      "Search- Key not present\n",
      "Min- 1\n",
      "Max- 90\n",
      "----------------------------------\n",
      "Selection sort\n",
      "1 - <__main__.Node object at 0x000002820D9A1948>\n",
      "3 - <__main__.Node object at 0x000002820D9A21C8>\n",
      "9 - <__main__.Node object at 0x000002820D9A2048>\n",
      "27 - <__main__.Node object at 0x000002820D9A2288>\n",
      "38 - <__main__.Node object at 0x000002820D9A2208>\n",
      "43 - <__main__.Node object at 0x000002820D9A22C8>\n",
      "82 - <__main__.Node object at 0x000002820D9A2308>\n",
      "90 - None\n",
      "----------------------------------\n",
      "Initial list\n",
      "90 - <__main__.Node object at 0x000002820D9A2508>\n",
      "38 - <__main__.Node object at 0x000002820D9A2548>\n",
      "27 - <__main__.Node object at 0x000002820D9A2588>\n",
      "43 - <__main__.Node object at 0x000002820D9A25C8>\n",
      "3 - <__main__.Node object at 0x000002820D9A2608>\n",
      "9 - <__main__.Node object at 0x000002820D9A2648>\n",
      "82 - <__main__.Node object at 0x000002820D9A2688>\n",
      "1 - None\n",
      "Bubble sort\n",
      "1 - <__main__.Node object at 0x000002820D9A2508>\n",
      "3 - <__main__.Node object at 0x000002820D9A2548>\n",
      "9 - <__main__.Node object at 0x000002820D9A2588>\n",
      "27 - <__main__.Node object at 0x000002820D9A25C8>\n",
      "38 - <__main__.Node object at 0x000002820D9A2608>\n",
      "43 - <__main__.Node object at 0x000002820D9A2648>\n",
      "82 - <__main__.Node object at 0x000002820D9A2688>\n",
      "90 - None\n"
     ]
    }
   ],
   "source": [
    "#list\n",
    "class Node:\n",
    "    \n",
    "    def __init__(self,element,nextN):\n",
    "        self.element= element\n",
    "        self.next=nextN\n",
    "        \n",
    "    def printNode(self):\n",
    "        print(self.element, \"-\", self.next)\n",
    "        \n",
    "        \n",
    "class MyList:\n",
    "   \n",
    "    def __init__(self,a):\n",
    "        self.head = None\n",
    "        tail = None\n",
    "        for i in a:\n",
    "            n=Node(i,None)\n",
    "            if (self.head is None):\n",
    "                self.head=n\n",
    "                tail=n\n",
    "            else:\n",
    "                tail.next = n\n",
    "                tail = n\n",
    "        \n",
    "    def printList(self):\n",
    "        n= self.head\n",
    "        while (n is not None):\n",
    "            n.printNode()\n",
    "            n=n.next\n",
    "            \n",
    "            \n",
    "#Length\n",
    "    def count(self,node):\n",
    "    \n",
    "        if node==None:\n",
    "            return 0\n",
    "        return 1+ self.count(node.next)\n",
    "        \n",
    "    def length(self):\n",
    "        return(self.count(self.head))\n",
    "    \n",
    "    \n",
    "#sum   \n",
    "    def sum(self,head):\n",
    "        if head.next==None:\n",
    "            return head.element\n",
    "        else:\n",
    "            return (head.element+self.sum(head.next))\n",
    "\n",
    "#sequential linear search\n",
    "\n",
    "    def search(self,head,key):\n",
    "        if head==None:\n",
    "            return \"Key not present\"\n",
    "        elif (head.element==key):\n",
    "            return True\n",
    "        else:\n",
    "            return (self.search(head.next,key))\n",
    "        \n",
    "#Maximum and minimum\n",
    "        \n",
    "    def minV(self,head):\n",
    "        if(head.next==None):\n",
    "            return head.element\n",
    "        else:\n",
    "            minE=head.element\n",
    "            minERest=self.minV(head.next)\n",
    "            if(minERest<head.element):\n",
    "                minE=minERest\n",
    "        return minE\n",
    "    \n",
    "    def maxV(self,head):\n",
    "        if(head.next==None):\n",
    "            return head.element\n",
    "        else:\n",
    "            maxE=head.element\n",
    "            maxERest=self.maxV(head.next)\n",
    "            if(maxERest>head.element):\n",
    "                maxE=maxERest\n",
    "            return maxE\n",
    "    \n",
    "#minimum Node\n",
    "              \n",
    "    def minNode(self,head):\n",
    "        if(head.next==None):\n",
    "            return head\n",
    "        else:\n",
    "            minN=head\n",
    "            minNRest=self.minNode(head.next)\n",
    "            if(minNRest.element<head.element):\n",
    "                minN=minNRest\n",
    "            return minN\n",
    "\n",
    "\n",
    "#selection_sort\n",
    "    \n",
    "    def selection_sort(self,head):\n",
    "        n=head\n",
    "        if(n==None or n.next==None):\n",
    "            return\n",
    "        else:\n",
    "            min_Node=self.minNode(n)\n",
    "            min_Node.element,head.element=head.element,min_Node.element\n",
    "            self.selection_sort(head.next)\n",
    "            \n",
    "#bubble_sort\n",
    "\n",
    "    def count(self,node):\n",
    "    \n",
    "        if node==None:\n",
    "            return 0\n",
    "        return 1+ self.count(node.next)\n",
    "    \n",
    "    def swap_sort(self,head):\n",
    "        if head.next==None:\n",
    "            return head\n",
    "        else:\n",
    "            if (head.element>head.next.element):\n",
    "                head.element,head.next.element=head.next.element,head.element\n",
    "            return(self.swap_sort(head.next))\n",
    "        \n",
    "    def bubble_sort(self,l):\n",
    "        if l==-1:\n",
    "            return \n",
    "        else:\n",
    "            self.swap_sort(self.head)\n",
    "            return (self.bubble_sort(l-1))\n",
    "        \n",
    "array =([90,38,27,43,3,9,82,1])\n",
    "list1 = MyList(array)\n",
    "\n",
    "print(\"length-\",list1.count(list1.head))\n",
    "print(\"Sum-\",list1.sum(list1.head))\n",
    "print(\"Search-\",list1.search(list1.head,10))\n",
    "print(\"Min-\",list1.minV(list1.head))\n",
    "print(\"Max-\",list1.maxV(list1.head))\n",
    "\n",
    "print(\"----------------------------------\")\n",
    "print(\"Selection sort\")\n",
    "list1.selection_sort(list1.head)\n",
    "list1.printList()\n",
    "\n",
    "print(\"----------------------------------\")\n",
    "print(\"Initial list\")\n",
    "array =([90,38,27,43,3,9,82,1])\n",
    "list2 = MyList(array)\n",
    "list2.printList()\n",
    "\n",
    "print(\"Bubble sort\")\n",
    "list2.bubble_sort(list2.count(list2.head))\n",
    "list2.printList()"
   ]
  },
  {
   "cell_type": "code",
   "execution_count": 12,
   "metadata": {},
   "outputs": [
    {
     "name": "stdout",
     "output_type": "stream",
     "text": [
      "Initial list\n",
      "38 - <__main__.Node object at 0x000002820D6B1C48> - <__main__.Node object at 0x000002820D6B1C08>\n",
      "27 - <__main__.Node object at 0x000002820D79A788> - <__main__.Node object at 0x000002820D6B1B48>\n",
      "43 - <__main__.Node object at 0x000002820D79AF08> - <__main__.Node object at 0x000002820D6B1C48>\n",
      "3 - <__main__.Node object at 0x000002820D85BF88> - <__main__.Node object at 0x000002820D79A788>\n",
      "9 - <__main__.Node object at 0x000002820D85BEC8> - <__main__.Node object at 0x000002820D79AF08>\n",
      "82 - <__main__.Node object at 0x000002820D85BF48> - <__main__.Node object at 0x000002820D85BF88>\n",
      "10 - <__main__.Node object at 0x000002820D6B1C08> - <__main__.Node object at 0x000002820D85BEC8>\n",
      "\n",
      "-----------------\n",
      "Insertion sort\n",
      "3 - <__main__.Node object at 0x000002820D6B1C48> - <__main__.Node object at 0x000002820D6B1C08>\n",
      "9 - <__main__.Node object at 0x000002820D79A788> - <__main__.Node object at 0x000002820D6B1B48>\n",
      "10 - <__main__.Node object at 0x000002820D79AF08> - <__main__.Node object at 0x000002820D6B1C48>\n",
      "27 - <__main__.Node object at 0x000002820D85BF88> - <__main__.Node object at 0x000002820D79A788>\n",
      "38 - <__main__.Node object at 0x000002820D85BEC8> - <__main__.Node object at 0x000002820D79AF08>\n",
      "43 - <__main__.Node object at 0x000002820D85BF48> - <__main__.Node object at 0x000002820D85BF88>\n",
      "82 - <__main__.Node object at 0x000002820D6B1C08> - <__main__.Node object at 0x000002820D85BEC8>\n"
     ]
    }
   ],
   "source": [
    "#insertion sort\n",
    "class Node:\n",
    "    def __init__(self,element,nex,prev):\n",
    "        self.element= element\n",
    "        self.next=nex\n",
    "        self.prev=prev\n",
    "    \n",
    "    def printNode(self):\n",
    "        print(self.element, \"-\", self.next,\"-\",self.prev)\n",
    "        \n",
    "class DoublyList:\n",
    "    def __init__(self,a):\n",
    "        self.head = None\n",
    "        tail=None\n",
    "        for i in a:\n",
    "            n=Node(i,None,None)\n",
    "            if self.head==None:\n",
    "                self.head=Node(0,None,None)\n",
    "                self.head.next=n\n",
    "                n.next=n.prev=self.head\n",
    "                self.head.prev=n\n",
    "\n",
    "            else:\n",
    "                a=self.head.prev\n",
    "                a.next=n\n",
    "                n.prev=a\n",
    "                n.next=self.head\n",
    "                self.head.prev=n\n",
    "                \n",
    "        count=0\n",
    "        i=self.head.next\n",
    "        while(i!=self.head):\n",
    "            count+=1\n",
    "            i=i.next\n",
    "        self.count=count\n",
    "    \n",
    "      \n",
    "    def printList(self):\n",
    "        n=self.head.next\n",
    "        while(n!=self.head):\n",
    "            n.printNode()\n",
    "            n=n.next\n",
    "            \n",
    "    def reCheck(self,head):\n",
    "        if head.prev==self.head.prev:\n",
    "            return\n",
    "        else:\n",
    "            if head.element<head.prev.element:\n",
    "                head.element,head.prev.element=head.prev.element,head.element\n",
    "            return(self.reCheck(head.prev))\n",
    "        \n",
    "    def insertionSort(self,head):\n",
    "        if head.next==self.head:\n",
    "            return \n",
    "        else:\n",
    "            if(head.element>head.next.element):\n",
    "                head.element,head.next.element=head.next.element,head.element\n",
    "                self.reCheck(head)\n",
    "        return(self.insertionSort(head.next))\n",
    "    \n",
    "    \n",
    "        \n",
    "\n",
    "array = ([38,27,43,3,9,82,10])\n",
    "list1 = DoublyList(array)\n",
    "print(\"Initial list\")\n",
    "list1.printList()\n",
    "print()\n",
    "print(\"-----------------\")\n",
    "print(\"Insertion sort\")\n",
    "list1.insertionSort(list1.head)\n",
    "list1.printList()"
   ]
  },
  {
   "cell_type": "code",
   "execution_count": 33,
   "metadata": {},
   "outputs": [
    {
     "data": {
      "text/plain": [
       "12"
      ]
     },
     "execution_count": 33,
     "metadata": {},
     "output_type": "execute_result"
    }
   ],
   "source": [
    "#histogram\n",
    "histogram=[6,2,5,4,5,1,6]\n",
    "\n",
    "def maximum(a,l):\n",
    "    if l==0:\n",
    "        return a[0]\n",
    "    else:\n",
    "        if a[l-1]>maximum(a,l-1):\n",
    "            return a[l-1]\n",
    "        else:\n",
    "            return maximum(a,l-1)\n",
    "        \n",
    "def maxArea(a,left,right):\n",
    "    if (left==right):\n",
    "        return a[left]\n",
    "    else: \n",
    "        m=left\n",
    "        min=a[left]\n",
    "        for i in range(left,right+1):\n",
    "            if(a[i]<min):\n",
    "                min=a[i]\n",
    "                m=i\n",
    "        rectangle=[0,0,0]\n",
    "        rectangle[0]=(right-left+1)*min\n",
    "        rectangle[1]=maxArea(a,left,m-1)\n",
    "        rectangle[2]=maxArea(a,m+1,right)\n",
    "    \n",
    "    return maximum(rectangle,3)\n",
    "l=len(histogram)   \n",
    "maxArea(histogram,0,6)\n"
   ]
  },
  {
   "cell_type": "code",
   "execution_count": 14,
   "metadata": {},
   "outputs": [
    {
     "name": "stdout",
     "output_type": "stream",
     "text": [
      "14\n"
     ]
    }
   ],
   "source": [
    "print(29//2)"
   ]
  },
  {
   "cell_type": "code",
   "execution_count": 25,
   "metadata": {},
   "outputs": [
    {
     "name": "stdout",
     "output_type": "stream",
     "text": [
      "14 1\n",
      "7 0\n",
      "3 1\n",
      "1 1\n",
      "0 1\n"
     ]
    },
    {
     "data": {
      "text/plain": [
       "'11101'"
      ]
     },
     "execution_count": 25,
     "metadata": {},
     "output_type": "execute_result"
    }
   ],
   "source": [
    "#decimal to binary\n",
    "def reverse_string(string):\n",
    "    if string==\"\":\n",
    "        return string\n",
    "    else:\n",
    "        return reverse_string(string[1:])+string[0]\n",
    "\n",
    "\n",
    "def convert(Q,binary):\n",
    "    if Q==0:\n",
    "        return reverse_string(binary)\n",
    "    else:\n",
    "        R=Q%2\n",
    "        Q=Q//2\n",
    "        print(Q,R)\n",
    "        binary+=str(R)\n",
    "        return convert(Q,binary)\n",
    "    \n",
    "convert(29,\"\")"
   ]
  },
  {
   "cell_type": "code",
   "execution_count": 34,
   "metadata": {},
   "outputs": [
    {
     "name": "stdout",
     "output_type": "stream",
     "text": [
      "Reverse- <__main__.Node object at 0x000002820D9AA348>\n"
     ]
    }
   ],
   "source": [
    "class Node:\n",
    "    \n",
    "    def __init__(self,element,nextN):\n",
    "        self.element= element\n",
    "        self.next=nextN\n",
    "        \n",
    "    def printNode(self):\n",
    "        print(self.element, \"-\", self.next)\n",
    "        \n",
    "        \n",
    "class MyList:\n",
    "   \n",
    "    def __init__(self,a):\n",
    "        self.head = None\n",
    "        tail = None\n",
    "        for i in a:\n",
    "            n=Node(i,None)\n",
    "            if (self.head is None):\n",
    "                self.head=n\n",
    "                tail=n\n",
    "            else:\n",
    "                tail.next = n\n",
    "                tail = n\n",
    "        \n",
    "    def printList(self):\n",
    "        n= self.head\n",
    "        while (n is not None):\n",
    "            n.printNode()\n",
    "            n=n.next\n",
    "            \n",
    "    def reverse(self,head):\n",
    "        if head==None or head.next==None:\n",
    "            return head\n",
    "\n",
    "        rest=self.reverse(head.next)\n",
    "        \n",
    "        head.next.next=head\n",
    "        head.next=None\n",
    "        return rest\n",
    "        \n",
    "array =([10,20,30,40,50,60,70,80])\n",
    "list1 = MyList(array)\n",
    "\n",
    "print(\"Reverse-\",list1.reverse(list1.head))"
   ]
  },
  {
   "cell_type": "code",
   "execution_count": 6,
   "metadata": {},
   "outputs": [
    {
     "name": "stdout",
     "output_type": "stream",
     "text": [
      "[10, 2, 3, 4]\n"
     ]
    }
   ],
   "source": [
    "a=[10,2,3,4,1,100,100,1]\n",
    "l=len(a)\n",
    "print(a[0:l//2])"
   ]
  },
  {
   "cell_type": "code",
   "execution_count": 13,
   "metadata": {},
   "outputs": [
    {
     "name": "stdout",
     "output_type": "stream",
     "text": [
      "[10]\n",
      "[2]\n",
      "[3]\n",
      "[4]\n",
      "[2, None]\n",
      "[2, 2]\n",
      "[3, None]\n",
      "[3, 4]\n"
     ]
    },
    {
     "ename": "IndexError",
     "evalue": "list index out of range",
     "output_type": "error",
     "traceback": [
      "\u001b[1;31m---------------------------------------------------------------------------\u001b[0m",
      "\u001b[1;31mIndexError\u001b[0m                                Traceback (most recent call last)",
      "\u001b[1;32m<ipython-input-13-7625b2f6d853>\u001b[0m in \u001b[0;36m<module>\u001b[1;34m\u001b[0m\n\u001b[0;32m     39\u001b[0m \u001b[0ma\u001b[0m\u001b[1;33m=\u001b[0m\u001b[1;33m[\u001b[0m\u001b[1;36m10\u001b[0m\u001b[1;33m,\u001b[0m\u001b[1;36m2\u001b[0m\u001b[1;33m,\u001b[0m\u001b[1;36m3\u001b[0m\u001b[1;33m,\u001b[0m\u001b[1;36m4\u001b[0m\u001b[1;33m,\u001b[0m\u001b[1;36m1\u001b[0m\u001b[1;33m,\u001b[0m\u001b[1;36m100\u001b[0m\u001b[1;33m,\u001b[0m\u001b[1;36m100\u001b[0m\u001b[1;33m,\u001b[0m\u001b[1;36m1\u001b[0m\u001b[1;33m]\u001b[0m\u001b[1;33m\u001b[0m\u001b[1;33m\u001b[0m\u001b[0m\n\u001b[0;32m     40\u001b[0m \u001b[0ml\u001b[0m\u001b[1;33m=\u001b[0m\u001b[0mlen\u001b[0m\u001b[1;33m(\u001b[0m\u001b[0ma\u001b[0m\u001b[1;33m)\u001b[0m\u001b[1;33m\u001b[0m\u001b[1;33m\u001b[0m\u001b[0m\n\u001b[1;32m---> 41\u001b[1;33m \u001b[0mmerge_sort\u001b[0m\u001b[1;33m(\u001b[0m\u001b[0ma\u001b[0m\u001b[1;33m,\u001b[0m\u001b[1;36m0\u001b[0m\u001b[1;33m,\u001b[0m\u001b[0ml\u001b[0m\u001b[1;33m-\u001b[0m\u001b[1;36m1\u001b[0m\u001b[1;33m)\u001b[0m\u001b[1;33m\u001b[0m\u001b[1;33m\u001b[0m\u001b[0m\n\u001b[0m\u001b[0;32m     42\u001b[0m \u001b[1;32mfor\u001b[0m \u001b[0mi\u001b[0m \u001b[1;32min\u001b[0m \u001b[0mrange\u001b[0m\u001b[1;33m(\u001b[0m\u001b[1;36m0\u001b[0m\u001b[1;33m,\u001b[0m\u001b[0ml\u001b[0m\u001b[1;33m)\u001b[0m\u001b[1;33m:\u001b[0m\u001b[1;33m\u001b[0m\u001b[1;33m\u001b[0m\u001b[0m\n\u001b[0;32m     43\u001b[0m     \u001b[0mprint\u001b[0m\u001b[1;33m(\u001b[0m\u001b[0ma\u001b[0m\u001b[1;33m[\u001b[0m\u001b[0mi\u001b[0m\u001b[1;33m]\u001b[0m\u001b[1;33m,\u001b[0m\u001b[0mend\u001b[0m\u001b[1;33m=\u001b[0m\u001b[1;34m\" \"\u001b[0m\u001b[1;33m)\u001b[0m\u001b[1;33m\u001b[0m\u001b[1;33m\u001b[0m\u001b[0m\n",
      "\u001b[1;32m<ipython-input-13-7625b2f6d853>\u001b[0m in \u001b[0;36mmerge_sort\u001b[1;34m(a, left, right)\u001b[0m\n\u001b[0;32m      3\u001b[0m         \u001b[0mmiddle\u001b[0m\u001b[1;33m=\u001b[0m\u001b[1;33m(\u001b[0m\u001b[0mleft\u001b[0m\u001b[1;33m+\u001b[0m\u001b[1;33m(\u001b[0m\u001b[0mright\u001b[0m\u001b[1;33m-\u001b[0m\u001b[1;36m1\u001b[0m\u001b[1;33m)\u001b[0m\u001b[1;33m)\u001b[0m\u001b[1;33m//\u001b[0m\u001b[1;36m2\u001b[0m\u001b[1;33m\u001b[0m\u001b[1;33m\u001b[0m\u001b[0m\n\u001b[0;32m      4\u001b[0m \u001b[1;33m\u001b[0m\u001b[0m\n\u001b[1;32m----> 5\u001b[1;33m         \u001b[0mmerge_sort\u001b[0m\u001b[1;33m(\u001b[0m\u001b[0ma\u001b[0m\u001b[1;33m,\u001b[0m\u001b[0mleft\u001b[0m\u001b[1;33m,\u001b[0m\u001b[0mmiddle\u001b[0m\u001b[1;33m)\u001b[0m\u001b[1;33m\u001b[0m\u001b[1;33m\u001b[0m\u001b[0m\n\u001b[0m\u001b[0;32m      6\u001b[0m         \u001b[0mmerge_sort\u001b[0m\u001b[1;33m(\u001b[0m\u001b[0ma\u001b[0m\u001b[1;33m,\u001b[0m\u001b[0mmiddle\u001b[0m\u001b[1;33m+\u001b[0m\u001b[1;36m1\u001b[0m\u001b[1;33m,\u001b[0m\u001b[0mright\u001b[0m\u001b[1;33m)\u001b[0m\u001b[1;33m\u001b[0m\u001b[1;33m\u001b[0m\u001b[0m\n\u001b[0;32m      7\u001b[0m         \u001b[0mmerge\u001b[0m\u001b[1;33m(\u001b[0m\u001b[0ma\u001b[0m\u001b[1;33m,\u001b[0m\u001b[0mleft\u001b[0m\u001b[1;33m,\u001b[0m\u001b[0mmiddle\u001b[0m\u001b[1;33m,\u001b[0m\u001b[0mright\u001b[0m\u001b[1;33m)\u001b[0m\u001b[1;33m\u001b[0m\u001b[1;33m\u001b[0m\u001b[0m\n",
      "\u001b[1;32m<ipython-input-13-7625b2f6d853>\u001b[0m in \u001b[0;36mmerge_sort\u001b[1;34m(a, left, right)\u001b[0m\n\u001b[0;32m      5\u001b[0m         \u001b[0mmerge_sort\u001b[0m\u001b[1;33m(\u001b[0m\u001b[0ma\u001b[0m\u001b[1;33m,\u001b[0m\u001b[0mleft\u001b[0m\u001b[1;33m,\u001b[0m\u001b[0mmiddle\u001b[0m\u001b[1;33m)\u001b[0m\u001b[1;33m\u001b[0m\u001b[1;33m\u001b[0m\u001b[0m\n\u001b[0;32m      6\u001b[0m         \u001b[0mmerge_sort\u001b[0m\u001b[1;33m(\u001b[0m\u001b[0ma\u001b[0m\u001b[1;33m,\u001b[0m\u001b[0mmiddle\u001b[0m\u001b[1;33m+\u001b[0m\u001b[1;36m1\u001b[0m\u001b[1;33m,\u001b[0m\u001b[0mright\u001b[0m\u001b[1;33m)\u001b[0m\u001b[1;33m\u001b[0m\u001b[1;33m\u001b[0m\u001b[0m\n\u001b[1;32m----> 7\u001b[1;33m         \u001b[0mmerge\u001b[0m\u001b[1;33m(\u001b[0m\u001b[0ma\u001b[0m\u001b[1;33m,\u001b[0m\u001b[0mleft\u001b[0m\u001b[1;33m,\u001b[0m\u001b[0mmiddle\u001b[0m\u001b[1;33m,\u001b[0m\u001b[0mright\u001b[0m\u001b[1;33m)\u001b[0m\u001b[1;33m\u001b[0m\u001b[1;33m\u001b[0m\u001b[0m\n\u001b[0m\u001b[0;32m      8\u001b[0m \u001b[1;33m\u001b[0m\u001b[0m\n\u001b[0;32m      9\u001b[0m \u001b[1;33m\u001b[0m\u001b[0m\n",
      "\u001b[1;32m<ipython-input-13-7625b2f6d853>\u001b[0m in \u001b[0;36mmerge\u001b[1;34m(a, left, middle, right)\u001b[0m\n\u001b[0;32m     27\u001b[0m \u001b[1;33m\u001b[0m\u001b[0m\n\u001b[0;32m     28\u001b[0m     \u001b[1;32mfor\u001b[0m \u001b[0mk\u001b[0m \u001b[1;32min\u001b[0m \u001b[0mrange\u001b[0m\u001b[1;33m(\u001b[0m\u001b[0mleft\u001b[0m\u001b[1;33m,\u001b[0m\u001b[0mright\u001b[0m\u001b[1;33m)\u001b[0m\u001b[1;33m:\u001b[0m\u001b[1;33m\u001b[0m\u001b[1;33m\u001b[0m\u001b[0m\n\u001b[1;32m---> 29\u001b[1;33m         \u001b[1;32mif\u001b[0m \u001b[0mL\u001b[0m\u001b[1;33m[\u001b[0m\u001b[0mi\u001b[0m\u001b[1;33m]\u001b[0m\u001b[1;33m<=\u001b[0m\u001b[0mR\u001b[0m\u001b[1;33m[\u001b[0m\u001b[0mj\u001b[0m\u001b[1;33m]\u001b[0m\u001b[1;33m:\u001b[0m\u001b[1;33m\u001b[0m\u001b[1;33m\u001b[0m\u001b[0m\n\u001b[0m\u001b[0;32m     30\u001b[0m             \u001b[0ma\u001b[0m\u001b[1;33m[\u001b[0m\u001b[0mk\u001b[0m\u001b[1;33m]\u001b[0m\u001b[1;33m=\u001b[0m\u001b[0mL\u001b[0m\u001b[1;33m[\u001b[0m\u001b[0mi\u001b[0m\u001b[1;33m]\u001b[0m\u001b[1;33m\u001b[0m\u001b[1;33m\u001b[0m\u001b[0m\n\u001b[0;32m     31\u001b[0m             \u001b[0mi\u001b[0m\u001b[1;33m+=\u001b[0m\u001b[1;36m1\u001b[0m\u001b[1;33m\u001b[0m\u001b[1;33m\u001b[0m\u001b[0m\n",
      "\u001b[1;31mIndexError\u001b[0m: list index out of range"
     ]
    }
   ],
   "source": [
    "def merge_sort(a,left,right):\n",
    "    if left<right:\n",
    "        middle=(left+(right-1))//2\n",
    "    \n",
    "        merge_sort(a,left,middle)\n",
    "        merge_sort(a,middle+1,right)\n",
    "        merge(a,left,middle,right)\n",
    "        \n",
    "\n",
    "def merge(a,left,middle,right):\n",
    "    n1=middle-left+1\n",
    "    n2=right-middle\n",
    "    \n",
    "    L=[None]*n1\n",
    "    R=[None]*n2\n",
    "    \n",
    "    for i in range(0,n1):\n",
    "        L[i]=a[left+i]\n",
    "        print(L)\n",
    "        \n",
    "    for j in range(0,n2):\n",
    "        R[j]=a[middle+1+j]\n",
    "        print(R)\n",
    "        \n",
    "    i=0\n",
    "    j=0\n",
    "    \n",
    "    for k in range(left,right):\n",
    "        if L[i]<=R[j]:\n",
    "            a[k]=L[i]\n",
    "            i+=1\n",
    "        else:\n",
    "            a[k]=R[j]\n",
    "            j+=1\n",
    "        \n",
    "    \n",
    "\n",
    "\n",
    "a=[10,2,3,4,1,100,100,1]\n",
    "l=len(a)\n",
    "merge_sort(a,0,l-1)\n",
    "for i in range(0,l):\n",
    "    print(a[i],end=\" \")"
   ]
  },
  {
   "cell_type": "code",
   "execution_count": 5,
   "metadata": {},
   "outputs": [
    {
     "name": "stdout",
     "output_type": "stream",
     "text": [
      "1 1 2 3 4 10 100 100 "
     ]
    }
   ],
   "source": [
    "def merge(a,left,middle,right):\n",
    "    n1=middle-left+1\n",
    "    n2=right-middle\n",
    "    \n",
    "    L=[None]*n1\n",
    "    R=[None]*n2\n",
    "    \n",
    "    for i in range(0,n1):\n",
    "        L[i]=a[left+i]\n",
    "        \n",
    "    for j in range(0,n2):\n",
    "        R[j]=a[middle+1+j]\n",
    "        \n",
    "    \n",
    "    i = 0     \n",
    "    j = 0     \n",
    "    k = left   \n",
    "  \n",
    "    while i < n1 and j < n2 :\n",
    "        if L[i] <= R[j]:\n",
    "            a[k] = L[i]\n",
    "            i += 1\n",
    "        else:\n",
    "            a[k] = R[j]\n",
    "            j += 1\n",
    "        k += 1\n",
    "    \n",
    "    while i < n1:\n",
    "        a[k] = L[i]\n",
    "        i += 1\n",
    "        k += 1\n",
    "  \n",
    "    while j < n2:\n",
    "        a[k] = R[j]\n",
    "        j += 1\n",
    "        k += 1\n",
    "    \n",
    "def merge_sort(a,left,right):\n",
    "    if left<right:\n",
    "        middle=(left+right)//2\n",
    "        merge_sort(a,left,middle)\n",
    "        merge_sort(a,middle+1,right)\n",
    "        merge(a,left,middle,right)\n",
    "        \n",
    "\n",
    "a=[10,2,3,4,1,100,100,1]\n",
    "l=len(a)\n",
    "merge_sort(a,0,l-1)\n",
    "for i in range(0,l):\n",
    "    print(a[i],end=\" \")"
   ]
  },
  {
   "cell_type": "code",
   "execution_count": null,
   "metadata": {},
   "outputs": [],
   "source": []
  },
  {
   "cell_type": "code",
   "execution_count": null,
   "metadata": {},
   "outputs": [],
   "source": []
  }
 ],
 "metadata": {
  "kernelspec": {
   "display_name": "Python 3",
   "language": "python",
   "name": "python3"
  },
  "language_info": {
   "codemirror_mode": {
    "name": "ipython",
    "version": 3
   },
   "file_extension": ".py",
   "mimetype": "text/x-python",
   "name": "python",
   "nbconvert_exporter": "python",
   "pygments_lexer": "ipython3",
   "version": "3.7.6"
  }
 },
 "nbformat": 4,
 "nbformat_minor": 4
}
