{
 "cells": [
  {
   "cell_type": "code",
   "execution_count": 2,
   "metadata": {},
   "outputs": [
    {
     "name": "stdout",
     "output_type": "stream",
     "text": [
      "Please enter the word: banana\n",
      "bnn3\n"
     ]
    }
   ],
   "source": [
    "word=input(\"Please enter the word: \")\n",
    "s=word.lower()\n",
    "edit0=s.replace('a','')\n",
    "edit1=edit0.replace('e','')\n",
    "edit2=edit1.replace('i','')\n",
    "edit3=edit2.replace('o','')\n",
    "edit4=edit3.replace('u','')\n",
    "total=s.count('a')+s.count('e')+s.count('i')+s.count('o')+s.count('u')\n",
    "print(edit4,total,sep='')\n"
   ]
  },
  {
   "cell_type": "code",
   "execution_count": 4,
   "metadata": {},
   "outputs": [
    {
     "name": "stdout",
     "output_type": "stream",
     "text": [
      "Please enter the word: abbaaa\n",
      "False\n"
     ]
    }
   ],
   "source": [
    "word=input(\"Please enter the word: \")\n",
    "length=len(word)\n",
    "if length%2==0:\n",
    "    s1=word[0:(length//2)-1]\n",
    "    s2=word[length-1:length//2:-1]\n",
    "else:\n",
    "    s1=word[0:(length//2)-1]\n",
    "    s2=word[length-1:(length//2)+1:-1]\n",
    "print(s1==s2)\n",
    "    "
   ]
  },
  {
   "cell_type": "code",
   "execution_count": 1,
   "metadata": {},
   "outputs": [
    {
     "name": "stdout",
     "output_type": "stream",
     "text": [
      "Please enter the word: tactful\n",
      "tactfully\n"
     ]
    }
   ],
   "source": [
    "word=input(\"Please enter the word: \")\n",
    "length=len(word)\n",
    "if length<4:\n",
    "    print(word)\n",
    "else:\n",
    "    if word.endswith('ful'):\n",
    "        print(word+\"ly\")\n",
    "    else:\n",
    "        print(word+'ful')"
   ]
  },
  {
   "cell_type": "code",
   "execution_count": 4,
   "metadata": {},
   "outputs": [
    {
     "name": "stdout",
     "output_type": "stream",
     "text": [
      "Please enter the word :ApplE\n",
      "apple\n"
     ]
    }
   ],
   "source": [
    "word=input(\"Please enter the word :\")\n",
    "length=len(word)\n",
    "capCount=0\n",
    "for i in word:\n",
    "    if i==i.upper():\n",
    "        capCount+=1\n",
    "        \n",
    "if capCount>(length-capCount):\n",
    "    print(word.upper())\n",
    "else:\n",
    "    print(word.lower())\n",
    "    \n",
    "    \n",
    "    "
   ]
  },
  {
   "cell_type": "code",
   "execution_count": 7,
   "metadata": {},
   "outputs": [
    {
     "name": "stdout",
     "output_type": "stream",
     "text": [
      "Please enter : hi\n",
      "WORD\n"
     ]
    }
   ],
   "source": [
    "entered=input(\"Please enter : \")\n",
    "length=len(entered)\n",
    "count=0\n",
    "for i in entered:\n",
    "    if i=='0' or i=='1' or i=='2' or i=='3' or i=='4' or i=='5' or i=='6' or i=='7' or i=='8' or i=='9':\n",
    "        count+=1\n",
    "    \n",
    "if count==length:\n",
    "    print(\"NUMBER\")\n",
    "elif count==0:\n",
    "    print(\"WORD\")\n",
    "else:\n",
    "    print(\"MIXED\")\n",
    "\n"
   ]
  },
  {
   "cell_type": "code",
   "execution_count": 9,
   "metadata": {},
   "outputs": [
    {
     "name": "stdout",
     "output_type": "stream",
     "text": [
      "Please enter the word: coDIng\n",
      "BLANK\n"
     ]
    }
   ],
   "source": [
    "word=input(\"Please enter the word: \")\n",
    "count=0\n",
    "for i in word:\n",
    "    if i==i.upper():\n",
    "        count+=1\n",
    "        if count==1:\n",
    "            a=word.index(i)\n",
    "        else:\n",
    "            b=word.index(i)\n",
    "\n",
    "if b-a==1:\n",
    "    print(\"BLANK\")\n",
    "else:\n",
    "    print(word[a+1:b])"
   ]
  },
  {
   "cell_type": "code",
   "execution_count": 11,
   "metadata": {},
   "outputs": [
    {
     "name": "stdout",
     "output_type": "stream",
     "text": [
      "Please enter the sentence: this book is good too\n",
      "this book is good too\n"
     ]
    }
   ],
   "source": [
    "sentence=input(\"Please enter the sentence: \")\n",
    "length=len(sentence)\n",
    "too=sentence.find(\"too\")\n",
    "if sentence[too:too+8]==\"too good\":\n",
    "    print(sentence[0:too]+\"excellent\"+sentence[too+8:length])\n",
    "else:\n",
    "    print(sentence)"
   ]
  },
  {
   "cell_type": "code",
   "execution_count": 13,
   "metadata": {},
   "outputs": [
    {
     "name": "stdout",
     "output_type": "stream",
     "text": [
      "Please enter the first part: dean\n",
      "Please enter the second part: tom\n",
      "Nothing in common.\n"
     ]
    }
   ],
   "source": [
    "line1=input(\"Please enter the first part: \")\n",
    "line2=input(\"Please enter the second part: \")\n",
    "part1=\"\"\n",
    "part2=\"\"\n",
    "for i in line1:\n",
    "    for s in line2:\n",
    "        if i==s:\n",
    "            part1+=i\n",
    "            break\n",
    "for a in line2:\n",
    "    for b in line1:\n",
    "        if a==b:\n",
    "            part2+=a \n",
    "            break\n",
    "if part1+part2==\"\":\n",
    "    print(\"Nothing in common.\")\n",
    "else:\n",
    "    print(part1+part2)\n"
   ]
  },
  {
   "cell_type": "code",
   "execution_count": 19,
   "metadata": {},
   "outputs": [
    {
     "name": "stdout",
     "output_type": "stream",
     "text": [
      "Please enter: abcdabc\n",
      "Not Palindrome Substring\n"
     ]
    }
   ],
   "source": [
    "string=input(\"Please enter: \")\n",
    "length=len(string)\n",
    "i=0\n",
    "sub=\"\"\n",
    "subString=\"\"\n",
    "while i<length:\n",
    "    sub+=string[i]\n",
    "    if string.endswith(sub):\n",
    "        subString=sub\n",
    "        break\n",
    "    i+=1\n",
    "print\n",
    "check=string[i:length-i+1]\n",
    "    \n",
    "if subString in check:\n",
    "    print(subString)\n",
    "else:\n",
    "    print(\"Not Palindrome Substring\")\n",
    "    \n",
    "    \n"
   ]
  },
  {
   "cell_type": "code",
   "execution_count": 17,
   "metadata": {},
   "outputs": [
    {
     "name": "stdout",
     "output_type": "stream",
     "text": [
      "Enter your new password: OhMyBR@CU20\n",
      "OK\n"
     ]
    }
   ],
   "source": [
    "password=input(\"Enter your new password: \")\n",
    "part=\"\"\n",
    "uCount=0\n",
    "lCount=0\n",
    "sCount=0\n",
    "dCount=0\n",
    "for i in password:\n",
    "    if i.islower():\n",
    "        lCount=1\n",
    "        break\n",
    "if lCount!=1:\n",
    "    part+=\"Lowercase character missing, \"\n",
    "        \n",
    "for i in password:\n",
    "    if i.isupper():\n",
    "        uCount+=1\n",
    "        break\n",
    "if uCount!=1:\n",
    "    part+=\"Uppercase character missing, \" \n",
    "    \n",
    "for i in password:\n",
    "    if i=='0' or i=='1' or i=='2' or i=='3' or i=='4' or i=='5' or i=='6' or i=='7' or i=='8' or i=='9':\n",
    "        dCount+=1\n",
    "        break\n",
    "if dCount!=1:\n",
    "    part+=\"Digit missing, \"\n",
    "        \n",
    "for i in password:\n",
    "    if i=='_' or i=='$' or i=='#' or i=='@':\n",
    "        sCount+=1\n",
    "        break\n",
    "if sCount!=1:\n",
    "    part+=\"Special character missing, \"\n",
    "        \n",
    "\n",
    "if (lCount+uCount+sCount+dCount)==4:\n",
    "    print(\"OK\")\n",
    "else:\n",
    "    print(part[:-2])\n"
   ]
  }
 ],
 "metadata": {
  "kernelspec": {
   "display_name": "Python 3",
   "language": "python",
   "name": "python3"
  },
  "language_info": {
   "codemirror_mode": {
    "name": "ipython",
    "version": 3
   },
   "file_extension": ".py",
   "mimetype": "text/x-python",
   "name": "python",
   "nbconvert_exporter": "python",
   "pygments_lexer": "ipython3",
   "version": "3.7.6"
  }
 },
 "nbformat": 4,
 "nbformat_minor": 4
}
