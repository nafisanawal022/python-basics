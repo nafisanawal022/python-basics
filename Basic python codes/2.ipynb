{
 "cells": [
  {
   "cell_type": "code",
   "execution_count": 2,
   "metadata": {},
   "outputs": [
    {
     "name": "stdout",
     "output_type": "stream",
     "text": [
      "Enter the numerator:5\n",
      "Enter the denominator:0\n",
      "0\n"
     ]
    }
   ],
   "source": [
    "num1=float(input(\"Enter the numerator:\"))\n",
    "num2=float(input(\"Enter the denominator:\"))\n",
    "\n",
    "def calculate(num1,num2):\n",
    "    if num2==0:\n",
    "        return 0\n",
    "    elif num1==0:\n",
    "        return 0\n",
    "    else:\n",
    "        return ((num1/num2)-(num1//num2))\n",
    "print(calculate(num1,num2))\n"
   ]
  },
  {
   "cell_type": "code",
   "execution_count": 4,
   "metadata": {},
   "outputs": [
    {
     "name": "stdout",
     "output_type": "stream",
     "text": [
      "Enter the height in centimetres(cm):152\n",
      "Enter the weight in kilograms:48\n",
      "Score is 20.8. You are Normal\n"
     ]
    }
   ],
   "source": [
    "heightInCm=float(input(\"Enter the height in centimetres(cm):\"))\n",
    "weight=float(input(\"Enter the weight in kilograms:\"))\n",
    "height = heightInCm*(10**(-2))\n",
    "if height==0 or weight==0:\n",
    "    print(\"Error\")\n",
    "else:\n",
    "    def calculate(height,weight):\n",
    "        bmi=(weight/(height**2))\n",
    "        if bmi<18.5:\n",
    "            return \"Score is \"+str(round(bmi,1))+\". You are Underweight\"\n",
    "        elif bmi>=18.5 and bmi<=24.9:\n",
    "            return \"Score is \"+str(round(bmi,1))+\". You are Normal\"\n",
    "        elif bmi>=25 and bmi<=30:\n",
    "            return \"Score is \"+str(round(bmi,1))+\". You are Overweight\"\n",
    "        else:\n",
    "            return \"Score is \"+str(round(bmi,1))+\". You are Obese\"\n",
    "    print(calculate(height,weight))\n",
    "        "
   ]
  },
  {
   "cell_type": "code",
   "execution_count": 6,
   "metadata": {},
   "outputs": [
    {
     "name": "stdout",
     "output_type": "stream",
     "text": [
      "Enter the minimum number:3\n",
      "Enter the maximum number:16\n",
      "Enter the divisor:3\n",
      "45\n"
     ]
    }
   ],
   "source": [
    "minimum= int(input(\"Enter the minimum number:\"))\n",
    "maximum= int(input(\"Enter the maximum number:\"))\n",
    "divisor= int(input(\"Enter the divisor:\"))\n",
    "def calculate(minimum,maximum,divisor):\n",
    "    n=minimum\n",
    "    sum=0\n",
    "    while n<maximum:\n",
    "        if n%divisor==0:\n",
    "            sum=sum+n\n",
    "        n+=1\n",
    "    return sum\n",
    "    \n",
    "print(calculate(minimum,maximum,divisor))\n",
    "\n"
   ]
  },
  {
   "cell_type": "code",
   "execution_count": 9,
   "metadata": {},
   "outputs": [
    {
     "name": "stdout",
     "output_type": "stream",
     "text": [
      "243.6\n",
      "Error\n"
     ]
    }
   ],
   "source": [
    "def order(food,place=\"Mohakhali\"):\n",
    "    if place==\"Mohakhali\":\n",
    "        if food==\"BBQ Chicken Cheese Burger\":\n",
    "            return (250+(0.08*250)+40)\n",
    "        elif food==\"Beef Burger\":\n",
    "            return (170+(0.08*170)+40)\n",
    "        elif food==\"Naga Drums\":\n",
    "            return (200+(0.08*200)+40)\n",
    "        else:\n",
    "            return \"Error\"\n",
    "    else:\n",
    "        if food==\"BBQ Chicken Cheese Burger\":\n",
    "            return (250+(0.08*250)+60)\n",
    "        elif food==\"Beef Burger\":\n",
    "            return (170+(0.08*170)+60)\n",
    "        elif food==\"Naga Drums\":\n",
    "            return (200+(0.08*200)+60)\n",
    "        else:\n",
    "            return \"Error! Please enter again\"\n",
    "print(order(\"Beef Burger\",\"Dhanmondi\"))\n",
    "print(order(\"Beef Burger\"))\n",
    "\n",
    "        \n",
    "    \n",
    "                "
   ]
  },
  {
   "cell_type": "code",
   "execution_count": 11,
   "metadata": {},
   "outputs": [
    {
     "name": "stdout",
     "output_type": "stream",
     "text": [
      "Changed: alice@sheba.xyz\n",
      "Unchanged: bob@sheba.xyz\n",
      "Changed: tom@sheba.xyz\n"
     ]
    }
   ],
   "source": [
    "def replace_domain(email,new,old=\"kaaj.com\"):\n",
    "    length=len(email)\n",
    "    position=email.find(\"@\")\n",
    "    i=position+1\n",
    "    domain=\"\"\n",
    "    subject=\"\"\n",
    "    a=0\n",
    "    while i<length:\n",
    "        domain+=email[i]\n",
    "        i+=1\n",
    "    while a<=position:\n",
    "        subject+=email[a]\n",
    "        a+=1\n",
    "        \n",
    "    if domain==new:\n",
    "        return (\"Unchanged: \"+subject+domain)\n",
    "    elif domain==old:\n",
    "        return (\"Changed: \"+subject+new)\n",
    "    else:\n",
    "        return \"Error\"\n",
    "print(replace_domain(\"alice@kaaj.com\",\"sheba.xyz\",\"kaaj.com\"))\n",
    "print(replace_domain(\"bob@sheba.xyz\",\"sheba.xyz\"))\n",
    "print(replace_domain(\"tom@kaaj.com\",\"sheba.xyz\"))\n",
    "\n"
   ]
  },
  {
   "cell_type": "code",
   "execution_count": 2,
   "metadata": {},
   "outputs": [
    {
     "name": "stdout",
     "output_type": "stream",
     "text": [
      "Please enter your full name: XYZ\n",
      "No vowels in the name\n"
     ]
    }
   ],
   "source": [
    "fullName=input(\"Please enter your full name: \")\n",
    "name= fullName.lower()\n",
    "def vowels(name):\n",
    "    count = 0\n",
    "    string=\"\"\n",
    "    for i in name:\n",
    "        if i==\"a\" or i==\"e\" or i==\"i\" or i==\"o\" or i==\"u\":\n",
    "            count+=1\n",
    "            if count==1:\n",
    "                string+=\" \"+i\n",
    "            else:\n",
    "                string+=\", \"+i\n",
    "    if count==0:\n",
    "        return (\"No vowels in the name\")\n",
    "    else:\n",
    "        return (\"Vowels:\"+string+\". Total number of vowels: \"+str(count))\n",
    "print(vowels(name))\n",
    "    \n",
    "    \n",
    "    \n"
   ]
  },
  {
   "cell_type": "code",
   "execution_count": 4,
   "metadata": {},
   "outputs": [
    {
     "name": "stdout",
     "output_type": "stream",
     "text": [
      "Please enter to check:nurses run\n",
      "Palindrome\n"
     ]
    }
   ],
   "source": [
    "written=input(\"Please enter to check:\")\n",
    "converted=written.lower()\n",
    "palin=\"\"\n",
    "for i in converted:\n",
    "    if i==\" \":\n",
    "        continue\n",
    "    else:\n",
    "        palin+=i\n",
    "length=len(palin)\n",
    "word=\"\"\n",
    "reverse=\"\"\n",
    "n=0\n",
    "s=length-1\n",
    "if length%2==0:\n",
    "    while n<(length/2):\n",
    "        word+=palin[n]\n",
    "        n+=1\n",
    "    while s>=(length/2):\n",
    "        reverse+=palin[s]\n",
    "        s-=1\n",
    "            \n",
    "else:\n",
    "    while n<(length//2):\n",
    "        word+=palin[n]\n",
    "        n+=1\n",
    "    while s>(length//2):\n",
    "        reverse+=palin[s]\n",
    "        s-=1\n",
    "            \n",
    "if word==reverse:\n",
    "    print(\"Palindrome\")\n",
    "else:\n",
    "    print(\"Not a palindrome\")\n",
    "        \n",
    "    \n",
    "        \n",
    "\n"
   ]
  },
  {
   "cell_type": "code",
   "execution_count": 4,
   "metadata": {},
   "outputs": [
    {
     "name": "stdout",
     "output_type": "stream",
     "text": [
      "Alice: 2000.0\n",
      "Alice: 2000.0, Bob: 22500.0, Alice: 2000.0\n",
      "Alice: 2000.0, Bob: 22500.0\n"
     ]
    }
   ],
   "source": [
    "def calculate(*info):\n",
    "    from datetime import datetime\n",
    "    today=str(datetime.date(datetime.now()))\n",
    "    for s in range(0,len(info),3):\n",
    "        name=info[s]\n",
    "        date=str(info[s+2])\n",
    "        a=1\n",
    "        i=0\n",
    "        date0=\"\"\n",
    "        date1=\"\"\n",
    "        profit=0\n",
    "        while i<4:\n",
    "            date0+=today[i]\n",
    "            date1+=date[i]\n",
    "            i+=1\n",
    "        year=int(date0)-int(date1)\n",
    "        month= (12-int(date[5]+date[6]))+int(today[5]+today[6])\n",
    "        totalYear=year+(month/12)\n",
    "        \n",
    "        if totalYear<5:\n",
    "            profit=0.1*int(info[s+1])\n",
    "        elif totalYear>=5 and totalYear<=10:\n",
    "            profit=(0.1*int(info[s+1]))+5000\n",
    "        else:\n",
    "            profit=(0.15*int(info[s+1]))+15000\n",
    "        if s==len(info)-3:\n",
    "            print(info[s]+\": \"+str(profit))\n",
    "        else:\n",
    "            print(info[s]+\": \"+str(profit),end=(\", \") ) \n",
    "    \n",
    "\n",
    "                \n",
    "calculate(\"Alice\",20000,\"2017-03-21\")\n",
    "calculate(\"Alice\",20000,\"2017-03-21\",\"Bob\",50000,\"2007-05-10\",\"Alice\",20000,\"2017-03-21\")\n",
    "calculate(\"Alice\",20000,\"2017-03-21\",\"Bob\",50000,\"2007-05-10\")\n",
    "\n",
    "\n",
    "    \n",
    "        \n",
    "\n",
    "\n",
    "    \n"
   ]
  },
  {
   "cell_type": "code",
   "execution_count": 8,
   "metadata": {},
   "outputs": [
    {
     "name": "stdout",
     "output_type": "stream",
     "text": [
      "Enter the number of days: 4320\n",
      "11 years, 10 months and 5 days\n"
     ]
    }
   ],
   "source": [
    "totalDays=int(input(\"Enter the number of days: \"))\n",
    "def convert(totalDays):\n",
    "    years=totalDays//365\n",
    "    months=int(((totalDays/365)-years)*12)\n",
    "    days=totalDays-((years*365)+(months*30))\n",
    "    return (str(years)+\" years, \"+str(months)+\" months and \"+str(days)+\" days\")\n",
    "print(convert(totalDays))\n"
   ]
  },
  {
   "cell_type": "code",
   "execution_count": 9,
   "metadata": {},
   "outputs": [
    {
     "name": "stdout",
     "output_type": "stream",
     "text": [
      "Please enter the paragraph :my favourite animal is a dog. a dog has sharp teeth so that it can eat flesh very easily. do you know my pet dog’s name? i love my pet very much. i think i like it!\n",
      "My favourite animal is a dog. A dog has sharp teeth so that it can eat flesh very easily. Do you know my pet dog’s name? I love my pet very much. I think I like it!\n"
     ]
    }
   ],
   "source": [
    "paragraph=input(\"Please enter the paragraph :\")\n",
    "def correct(paragraph):\n",
    "    i=0\n",
    "    corrected=\"\"\n",
    "    length=len(paragraph)\n",
    "    while i<(length-1):\n",
    "        if i==0:\n",
    "            letter=paragraph[i].upper()\n",
    "            corrected+=letter\n",
    "        elif paragraph[i]==\" \":\n",
    "            if paragraph[i+1]==\"i\" and paragraph[i+2]==\" \":\n",
    "                letter=paragraph[i+1].upper()\n",
    "                corrected+=(\" \"+letter)\n",
    "                i+=1\n",
    "            else:\n",
    "                corrected+=paragraph[i] \n",
    "        elif paragraph[i]==\".\" or paragraph[i]==\"?\" or paragraph[i]==\"!\":\n",
    "            a=2+i\n",
    "            letter=paragraph[a].upper()\n",
    "            corrected+=(paragraph[i]+\" \"+letter)\n",
    "            i+=2\n",
    "        else:\n",
    "            corrected+=paragraph[i]\n",
    "        i+=1\n",
    "        \n",
    "    corrected+=paragraph[length-1] \n",
    "    return (corrected)\n",
    "print(correct(paragraph))\n",
    "            \n",
    "            \n",
    "            \n",
    "            \n",
    "            \n",
    "            \n",
    "            \n",
    "            \n",
    "          "
   ]
  }
 ],
 "metadata": {
  "kernelspec": {
   "display_name": "Python 3",
   "language": "python",
   "name": "python3"
  },
  "language_info": {
   "codemirror_mode": {
    "name": "ipython",
    "version": 3
   },
   "file_extension": ".py",
   "mimetype": "text/x-python",
   "name": "python",
   "nbconvert_exporter": "python",
   "pygments_lexer": "ipython3",
   "version": "3.7.6"
  }
 },
 "nbformat": 4,
 "nbformat_minor": 4
}
