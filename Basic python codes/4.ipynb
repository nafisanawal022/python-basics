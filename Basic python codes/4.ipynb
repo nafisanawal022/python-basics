{
 "cells": [
  {
   "cell_type": "code",
   "execution_count": 4,
   "metadata": {},
   "outputs": [
    {
     "name": "stdout",
     "output_type": "stream",
     "text": [
      "Please enter the number :1\n",
      "Please enter the number :10\n",
      "Please enter the number :30\n",
      "Please enter the number :40\n",
      "Please enter the number :50\n",
      "Please enter the number :75\n",
      "Please enter the number :90\n",
      "Please enter the number :99\n",
      "Please enter the number :11\n",
      "Please enter the number :12\n",
      "[12, 11, 99, 90, 75, 50, 40, 30, 10, 1]\n"
     ]
    }
   ],
   "source": [
    "number=[]\n",
    "for i in range(0,10):\n",
    "    num=int(input(\"Please enter the number :\"))\n",
    "    number.append(num)\n",
    "number.reverse()\n",
    "print(number)"
   ]
  },
  {
   "cell_type": "code",
   "execution_count": 5,
   "metadata": {},
   "outputs": [
    {
     "name": "stdout",
     "output_type": "stream",
     "text": [
      "Enter the first list separated by commas:1,3,5,7,9,10\n",
      "Enter the second list separated by commas:2,4,6,8\n",
      "[1, 3, 5, 7, 9, 2, 4, 6, 8]\n"
     ]
    }
   ],
   "source": [
    "input1=input(\"Enter the first list separated by commas:\")\n",
    "input2=input(\"Enter the second list separated by commas:\")\n",
    "\n",
    "li1=input1.split(\",\")\n",
    "li2=input2.split(\",\")\n",
    "\n",
    "list1=[]\n",
    "list2=[]\n",
    "for i in li1:\n",
    "    list1.append(int(i))\n",
    "    \n",
    "for i in li2:\n",
    "    list2.append(int(i))\n",
    "\n",
    "list1.pop()\n",
    "print(list1+list2)"
   ]
  },
  {
   "cell_type": "code",
   "execution_count": 1,
   "metadata": {},
   "outputs": [
    {
     "name": "stdout",
     "output_type": "stream",
     "text": [
      "Please enter the number: 10\n",
      "Please enter the number: 20\n",
      "Please enter the number: 20\n",
      "Error! Enter again\n",
      "Please enter the number: 30\n",
      "Please enter the number: 40\n",
      "Please enter the number: 50\n",
      "Please enter the number: 50\n",
      "Error! Enter again\n",
      "Please enter the number: 60\n",
      "Please enter the number: 70\n",
      "Please enter the number: 80\n",
      "Please enter the number: 90\n",
      "Please enter the number: 90\n",
      "Error! Enter again\n",
      "Please enter the number: 100\n",
      "[10, 20, 30, 40, 50, 60, 70, 80, 90, 100]\n"
     ]
    }
   ],
   "source": [
    "list=[]\n",
    "i=0\n",
    "while i<10:\n",
    "    num=int(input(\"Please enter the number: \"))\n",
    "    list.append(num)\n",
    "    \n",
    "    if list.count(num)>1:\n",
    "        print(\"Error! Enter again\")\n",
    "        list.pop()\n",
    "    else:\n",
    "        i+=1\n",
    "print(list)\n",
    "    "
   ]
  },
  {
   "cell_type": "code",
   "execution_count": 3,
   "metadata": {},
   "outputs": [
    {
     "name": "stdout",
     "output_type": "stream",
     "text": [
      "Please enter the number: 10\n",
      "Please enter the number: 20\n",
      "Please enter the number: 20\n",
      "Please enter the number: 30\n",
      "Please enter the number: 30\n",
      "Please enter the number: 30\n",
      "Please enter the number: 40\n",
      "Please enter the number: 40\n",
      "Please enter the number: 40\n",
      "Please enter the number: 40\n",
      "Please enter the number: 50\n",
      "Please enter the number: 50\n",
      "Please enter the number: 50\n",
      "Please enter the number: STOP\n",
      "10-1times\n",
      "20-2times\n",
      "30-3times\n",
      "40-4times\n",
      "50-3times\n"
     ]
    }
   ],
   "source": [
    "list=[]\n",
    "listS=''\n",
    "while True:\n",
    "    number=input(\"Please enter the number: \")\n",
    "    if number==\"STOP\":\n",
    "        break\n",
    "    else:\n",
    "        listS+=number\n",
    "        num=int(number)\n",
    "        list.append(num)\n",
    "        \n",
    "newList=[]\n",
    "for i in list:\n",
    "    if i in newList:\n",
    "        continue\n",
    "    else:\n",
    "        newList.append(i)\n",
    "        \n",
    "for i in range(0,len(newList)):\n",
    "    count=list.count(newList[i])\n",
    "    print(str(newList[i])+\"-\"+str(count)+\"times\")\n",
    "    \n",
    "\n",
    "    "
   ]
  },
  {
   "cell_type": "code",
   "execution_count": 6,
   "metadata": {},
   "outputs": [
    {
     "name": "stdout",
     "output_type": "stream",
     "text": [
      "Please enter: 3\n",
      "Please enter the elements of the list separated by spaces: 10 11 12\n",
      "Please enter the elements of the list separated by spaces: 13 14 15\n",
      "Please enter the elements of the list separated by spaces: 16 17 18\n",
      "51\n",
      "[16, 17, 18]\n"
     ]
    }
   ],
   "source": [
    "n=int(input(\"Please enter: \"))\n",
    "sum=[]\n",
    "list=[]\n",
    "for i in range(0,n):\n",
    "    list_input=input(\"Please enter the elements of the list separated by spaces: \")\n",
    "    list_a=[int(num) for num in list_input.split()]\n",
    "    list.append(list_a)\n",
    "   \n",
    "    total=0\n",
    "    for a in range(0,len(list_a)):\n",
    "        total+=list_a[a]\n",
    "    sum.append(total)\n",
    "\n",
    "sortedSum=sum.copy()\n",
    "sortedSum.sort()\n",
    "\n",
    "for s in range(0,n):\n",
    "    if sortedSum[-1]==sum[s]:\n",
    "        print(sortedSum[-1])\n",
    "        print(list[s])\n",
    "    \n",
    "\n",
    "\n"
   ]
  },
  {
   "cell_type": "code",
   "execution_count": 7,
   "metadata": {},
   "outputs": [
    {
     "name": "stdout",
     "output_type": "stream",
     "text": [
      "Enter the first list separated by spaces: 2 3 6\n",
      "Enter the second list separated by spaces: 3 4 5\n",
      "[6, 8, 10, 9, 12, 15, 18, 24, 30]\n"
     ]
    }
   ],
   "source": [
    "set1=input(\"Enter the first list separated by spaces: \")\n",
    "set2=input(\"Enter the second list separated by spaces: \")\n",
    "list1=[int(num) for num in set1.split()]\n",
    "list2=[int(num) for num in set2.split()]\n",
    "product=[]\n",
    "\n",
    "for i in range(0,len(list1)):\n",
    "    for a in range(0,len(list2)):\n",
    "        crossP=list1[i]*list2[a]\n",
    "        product.append(crossP)\n",
    "        \n",
    "print(product)"
   ]
  },
  {
   "cell_type": "code",
   "execution_count": 8,
   "metadata": {},
   "outputs": [
    {
     "name": "stdout",
     "output_type": "stream",
     "text": [
      "Enter the value of N: 3\n",
      "Pleasse enter the elements of the list: a,b,c,d,e,f,g,h,i,j,k,l,m,n\n",
      "[['a', 'd', 'g', 'j', 'm'], ['b', 'e', 'h', 'k', 'n'], ['c', 'f', 'i', 'l']]\n"
     ]
    }
   ],
   "source": [
    "n=int(input(\"Enter the value of N: \"))\n",
    "list_input=input(\"Pleasse enter the elements of the list: \")\n",
    "list=list_input.split(\",\")\n",
    "final_list=[]\n",
    "for i in range(0,n):\n",
    "    new_list=[]\n",
    "    for a in range(i,len(list),3):\n",
    "        new_list.append(list[a])\n",
    "    final_list.append(new_list)   \n",
    "print(final_list)    "
   ]
  },
  {
   "cell_type": "code",
   "execution_count": 9,
   "metadata": {},
   "outputs": [
    {
     "name": "stdout",
     "output_type": "stream",
     "text": [
      "Enter the elements of a sequence separated: 1 4 2 3\n",
      "UB Jumper\n",
      "Enter the elements of a sequence separated: 2 1 4 6 10\n",
      "UB Jumper\n",
      "Enter the elements of a sequence separated: 1 4 2 -1 6\n",
      "Not UB Jumper\n",
      "Enter the elements of a sequence separated: STOP\n"
     ]
    }
   ],
   "source": [
    "\n",
    "while True:\n",
    "    input_sequence=input(\"Enter the elements of a sequence separated: \")\n",
    "    count=0\n",
    "    if input_sequence!=\"STOP\":\n",
    "        seq=[int(num) for num in input_sequence.split()]\n",
    "        diff=[]\n",
    "        for i in range(0,len(seq)-1):\n",
    "            difference=abs(seq[i]-seq[i+1])\n",
    "            diff.append(difference)\n",
    "            \n",
    "        for a in range(0,len(diff)):\n",
    "            if diff[a]<len(seq) and diff[a]>0:\n",
    "                count+=1\n",
    "                \n",
    "        if count==len(diff): \n",
    "            print(\"UB Jumper\")\n",
    "        else:\n",
    "            print(\"Not UB Jumper\")\n",
    "            \n",
    "    else:\n",
    "        break"
   ]
  },
  {
   "cell_type": "code",
   "execution_count": 10,
   "metadata": {},
   "outputs": [
    {
     "name": "stdout",
     "output_type": "stream",
     "text": [
      "Enter the alphanumeric string: Bracu1234\n",
      "acruB1324"
     ]
    }
   ],
   "source": [
    "string=input(\"Enter the alphanumeric string: \")\n",
    "listed=[]\n",
    "lower=[]\n",
    "upper=[]\n",
    "even=[]\n",
    "odd=[]\n",
    "for i in string:\n",
    "    listed.append(i)\n",
    "    \n",
    "for i in listed:\n",
    "    if i.isalpha():\n",
    "        if i==i.lower():\n",
    "            lower.append(i)\n",
    "        else:\n",
    "            upper.append(i)\n",
    "    else:\n",
    "        if int(i)%2!=0:\n",
    "            odd.append(i)\n",
    "        else:\n",
    "            even.append(i)\n",
    "            \n",
    "lower.sort()\n",
    "upper.sort()\n",
    "odd.sort()\n",
    "even.sort()\n",
    "\n",
    "listF=lower+upper+odd+even\n",
    "final=\"\"\n",
    "\n",
    "for a in listF:\n",
    "    print(a,end='')\n",
    "       "
   ]
  },
  {
   "cell_type": "code",
   "execution_count": 13,
   "metadata": {},
   "outputs": [
    {
     "name": "stdout",
     "output_type": "stream",
     "text": [
      "Number of BRACU students and how many times should each team participate separated by spaces : 6 5\n",
      "Enter the number of times each student participated separated by spaces: 0 0 0 0 0 0\n",
      "2\n"
     ]
    }
   ],
   "source": [
    "input_students=input(\"Number of BRACU students and how many times should each team participate separated by spaces : \")\n",
    "input1=[int(num) for num in input_students.split()]\n",
    "n=input1[0]\n",
    "k=input1[1]\n",
    "list_y=input(\"Enter the number of times each student participated separated by spaces: \")\n",
    "y=[int(num) for num in list_y.split()]\n",
    "y.sort()\n",
    "count=0\n",
    "\n",
    "for i in range(0,n,3):\n",
    "    if i+1==n or i+2==n:\n",
    "        break\n",
    "    else:\n",
    "        if ((y[i]+k)<=5) and ((y[i+1]+k)<=5) and ((y[i+2]+k)<=5):\n",
    "            count+=1\n",
    "    \n",
    "print(count)      \n",
    "\n"
   ]
  },
  {
   "cell_type": "code",
   "execution_count": 6,
   "metadata": {},
   "outputs": [
    {
     "name": "stdout",
     "output_type": "stream",
     "text": [
      "Given array is\n",
      "24\n",
      "41\n",
      "49\n",
      "50\n",
      "56\n",
      "76\n",
      "count\n",
      "count\n",
      "count\n",
      "count\n",
      "count\n",
      "count\n",
      "count\n",
      "\n",
      "\n",
      "Sorted array is\n",
      "24\n",
      "41\n",
      "49\n",
      "50\n",
      "56\n",
      "76\n"
     ]
    }
   ],
   "source": [
    "# Python program for implementation of MergeSort\n",
    "  \n",
    "# Merges two subarrays of arr[].\n",
    "# First subarray is arr[l..m]\n",
    "# Second subarray is arr[m+1..r]\n",
    "\n",
    "def merge(arr, l, m, r):\n",
    "    n1 = m - l + 1\n",
    "    n2 = r- m\n",
    "  \n",
    "    # create temp arrays\n",
    "    L = [0] * (n1)\n",
    "    R = [0] * (n2)\n",
    "  \n",
    "    # Copy data to temp arrays L[] and R[]\n",
    "    for i in range(0 , n1):\n",
    "        L[i] = arr[l + i]\n",
    "  \n",
    "    for j in range(0 , n2):\n",
    "        R[j] = arr[m + 1 + j]\n",
    "  \n",
    "    # Merge the temp arrays back into arr[l..r]\n",
    "    i = 0     # Initial index of first subarray\n",
    "    j = 0     # Initial index of second subarray\n",
    "    k = l     # Initial index of merged subarray\n",
    "  \n",
    "    while i < n1 and j < n2 :\n",
    "        if L[i] <= R[j]:\n",
    "            arr[k] = L[i]\n",
    "            i += 1\n",
    "        else:\n",
    "            arr[k] = R[j]\n",
    "            j += 1\n",
    "        print('count')\n",
    "        k += 1\n",
    "  \n",
    "    # Copy the remaining elements of L[], if there\n",
    "    # are any\n",
    "    while i < n1:\n",
    "        arr[k] = L[i]\n",
    "        i += 1\n",
    "        k += 1\n",
    "  \n",
    "    # Copy the remaining elements of R[], if there\n",
    "    # are any\n",
    "    while j < n2:\n",
    "        arr[k] = R[j]\n",
    "        j += 1\n",
    "        k += 1\n",
    "  \n",
    "# l is for left index and r is right index of the\n",
    "# sub-array of arr to be sorted\n",
    "def mergeSort(arr,l,r):\n",
    "    if l < r:\n",
    "  \n",
    "        # Same as (l+r)//2, but avoids overflow for\n",
    "        # large l and h\n",
    "        m = (l+(r-1))//2\n",
    "  \n",
    "        # Sort first and second halves\n",
    "        mergeSort(arr, l, m)\n",
    "        mergeSort(arr, m+1, r)\n",
    "        merge(arr, l, m, r)\n",
    "  \n",
    "  \n",
    "# Driver code to test above\n",
    "arr = [24, 41, 49, 50, 56, 76]\n",
    "n = len(arr)\n",
    "print (\"Given array is\")\n",
    "for i in range(n):\n",
    "    print (\"%d\" %arr[i]),\n",
    "  \n",
    "mergeSort(arr,0,n-1)\n",
    "print (\"\\n\\nSorted array is\")\n",
    "for i in range(n):\n",
    "    print (\"%d\" %arr[i]),\n",
    "    \n",
    "\n",
    "  \n",
    "# This code is contributed by Mohit Kumra"
   ]
  },
  {
   "cell_type": "code",
   "execution_count": null,
   "metadata": {},
   "outputs": [],
   "source": []
  }
 ],
 "metadata": {
  "kernelspec": {
   "display_name": "Python 3",
   "language": "python",
   "name": "python3"
  },
  "language_info": {
   "codemirror_mode": {
    "name": "ipython",
    "version": 3
   },
   "file_extension": ".py",
   "mimetype": "text/x-python",
   "name": "python",
   "nbconvert_exporter": "python",
   "pygments_lexer": "ipython3",
   "version": "3.7.6"
  }
 },
 "nbformat": 4,
 "nbformat_minor": 4
}
