{
 "cells": [
  {
   "cell_type": "code",
   "execution_count": 3,
   "metadata": {},
   "outputs": [
    {
     "name": "stdout",
     "output_type": "stream",
     "text": [
      "3\n",
      "5\n",
      "6\n",
      "9\n",
      "10\n",
      "12\n",
      "15\n",
      "18\n",
      "20\n",
      "21\n",
      "24\n",
      "25\n",
      "27\n",
      "30\n"
     ]
    }
   ],
   "source": [
    "count = 0\n",
    "for i in range(1,31):\n",
    "    if i%3==0:\n",
    "       count +=1\n",
    "       print(i)\n",
    "    elif i%5==0:\n",
    "        count +=1\n",
    "        print(i)\n",
    "        \n",
    "        \n",
    "        \n",
    "        "
   ]
  },
  {
   "cell_type": "code",
   "execution_count": 4,
   "metadata": {},
   "outputs": [
    {
     "name": "stdout",
     "output_type": "stream",
     "text": [
      "Please enter the first number:3\n",
      "Please enter the second number:4\n",
      "Please enter the third number:5\n",
      "5\n"
     ]
    }
   ],
   "source": [
    "number1 = input(\"Please enter the first number:\")\n",
    "number2 = input(\"Please enter the second number:\")\n",
    "number3 = input(\"Please enter the third number:\")\n",
    "num1= int(number1)\n",
    "num2= int(number2)\n",
    "num3= int(number3)\n",
    "\n",
    "\n",
    "if num1>num2 and num1>num3:\n",
    "    max = num1\n",
    "elif num2>num1 and num2>num3:\n",
    "    max = num2\n",
    "else:\n",
    "    max = num3\n",
    "    \n",
    "print(max)\n",
    "    "
   ]
  },
  {
   "cell_type": "code",
   "execution_count": null,
   "metadata": {},
   "outputs": [],
   "source": [
    "score = input(\"Please enter the marks:\")\n",
    "marks = int(score)\n",
    "if marks >= 90:\n",
    "    print(\"A\")\n",
    "elif marks >= 85 and marks <= 89:\n",
    "    print(\"A-\")\n",
    "elif marks >= 80 and marks <= 84:\n",
    "    print(\"B+\")\n",
    "elif marks >= 75 and marks <= 79:\n",
    "    print(\"B\")\n",
    "elif marks >= 70 and marks <= 74:\n",
    "    print(\"B-\")\n",
    "elif marks >= 65 and marks <= 69:\n",
    "    print(\"C+\")\n",
    "elif marks >= 60 and marks <= 64:\n",
    "    print(\"C\")\n",
    "elif marks >= 57 and marks <= 59:\n",
    "    print(\"C-\")\n",
    "elif marks >= 55 and marks <= 56:\n",
    "    print(\"D+\")\n",
    "elif marks >= 52 and marks <= 54:\n",
    "    print(\"D\")\n",
    "elif marks >= 50 and marks <= 51:\n",
    "    print(\"D-\")\n",
    "else:\n",
    "    print(\"F\")\n",
    "\n",
    "\n",
    "\n",
    "\n",
    "\n"
   ]
  },
  {
   "cell_type": "code",
   "execution_count": null,
   "metadata": {},
   "outputs": [],
   "source": [
    "prime = input(\"Please enter the number:\")\n",
    "number = int(prime)\n",
    "divisor =0\n",
    "for i in range(1,number+1):\n",
    "    if number%i==0:\n",
    "        divisor +=1\n",
    "if divisor==2:\n",
    "    print(\"The number is prime\")\n",
    "else:\n",
    "    print(\"The number is not prime\")\n",
    "    "
   ]
  },
  {
   "cell_type": "code",
   "execution_count": 1,
   "metadata": {},
   "outputs": [
    {
     "name": "stdout",
     "output_type": "stream",
     "text": [
      "Please enter the limit:10\n",
      "0 1 1 2 3 5 8 "
     ]
    }
   ],
   "source": [
    "num= input(\"Please enter the limit:\")\n",
    "number=int(num)\n",
    "num1=0\n",
    "num2=1\n",
    "print(num1,num2,sep=\" \",end=\" \")\n",
    "c=0\n",
    "while c<number:\n",
    "    c=num1+num2\n",
    "    if c<=number:\n",
    "       print(c,end=\" \")\n",
    "    num1=num2\n",
    "    num2=c\n",
    "    c+=1\n",
    "    "
   ]
  },
  {
   "cell_type": "code",
   "execution_count": 1,
   "metadata": {},
   "outputs": [
    {
     "name": "stdout",
     "output_type": "stream",
     "text": [
      "Please enter the number:64732\n",
      "23746"
     ]
    }
   ],
   "source": [
    "num = input(\"Please enter the number:\")\n",
    "length = len(num)\n",
    "while length>0:\n",
    "    print(num[length-1],end=\"\")\n",
    "    length-=1"
   ]
  },
  {
   "cell_type": "code",
   "execution_count": 3,
   "metadata": {},
   "outputs": [
    {
     "name": "stdout",
     "output_type": "stream",
     "text": [
      "Please enter a number:5\n",
      "Not Perfect\n"
     ]
    }
   ],
   "source": [
    "num= input(\"Please enter a number:\")\n",
    "number = int(num)\n",
    "c=1\n",
    "sum=0\n",
    "while c<number:\n",
    "    if number%c==0:\n",
    "        sum= sum+c \n",
    "    c+=1\n",
    "if sum==number:\n",
    "    print(\"Perfect Number\")\n",
    "else:\n",
    "    print(\"Not Perfect\")\n",
    "    \n",
    "    "
   ]
  },
  {
   "cell_type": "code",
   "execution_count": 7,
   "metadata": {},
   "outputs": [
    {
     "name": "stdout",
     "output_type": "stream",
     "text": [
      "Please enter the number:90123245678\n",
      "10\n"
     ]
    }
   ],
   "source": [
    "num= input(\"Please enter the number:\")\n",
    "length=len(num)\n",
    "totalCount=0\n",
    "for i in range(10):\n",
    "    c=0\n",
    "    count=0\n",
    "    while c<length:\n",
    "        if i==int(num[c]):\n",
    "            count+=1\n",
    "        \n",
    "        c+=1\n",
    "    if count>1:\n",
    "        count=1   \n",
    "    \n",
    "    totalCount=totalCount+count\n",
    "print(totalCount)\n",
    "    "
   ]
  },
  {
   "cell_type": "code",
   "execution_count": 5,
   "metadata": {},
   "outputs": [
    {
     "name": "stdout",
     "output_type": "stream",
     "text": [
      "Please enter the number:37\n",
      "7\n"
     ]
    }
   ],
   "source": [
    "num= input(\"Please enter the number:\")\n",
    "number=int(num)\n",
    "binary = bin(number)\n",
    "a= str(binary)\n",
    "length=len(a)\n",
    "b=\"\"\n",
    "c=2\n",
    "while c<length:\n",
    "    if int(a[c])==1:\n",
    "        b=b+\"1\"\n",
    "    c+=1\n",
    "print(int(b,2))"
   ]
  },
  {
   "cell_type": "code",
   "execution_count": 4,
   "metadata": {},
   "outputs": [
    {
     "name": "stdout",
     "output_type": "stream",
     "text": [
      "Please enter the number:5\n",
      "    *\n",
      "   * *\n",
      "  * * *\n",
      " * * * *\n",
      "*********\n",
      " * * * *\n",
      "  * * *\n",
      "   * *\n",
      "    *\n"
     ]
    }
   ],
   "source": [
    "n= int(input(\"Please enter the number:\"))\n",
    "for serial in range(1,n+1):\n",
    "    for space in range(n,serial,-1):\n",
    "        print(\" \",end=\"\")\n",
    "    term=((2*serial)-1)\n",
    "    for star in range(term):\n",
    "        if serial!=n and star%2!=0:\n",
    "            print(\" \",end=\"\")\n",
    "        else:\n",
    "            print(\"*\",end=\"\")\n",
    "    print(\"\\r\")\n",
    "    \n",
    "for serial in range(1,n):\n",
    "    for space in range(serial):\n",
    "        print(\" \",end=\"\")\n",
    "    term=((2*n)-1-(2*serial))\n",
    "    for star in range(term):\n",
    "        if serial!=n and star%2!=0:\n",
    "            print(\" \",end=\"\")\n",
    "        else:\n",
    "            print(\"*\",end=\"\")\n",
    "    print(\"\\r\")\n",
    "    \n"
   ]
  },
  {
   "cell_type": "code",
   "execution_count": null,
   "metadata": {},
   "outputs": [],
   "source": []
  }
 ],
 "metadata": {
  "kernelspec": {
   "display_name": "Python 3",
   "language": "python",
   "name": "python3"
  },
  "language_info": {
   "codemirror_mode": {
    "name": "ipython",
    "version": 3
   },
   "file_extension": ".py",
   "mimetype": "text/x-python",
   "name": "python",
   "nbconvert_exporter": "python",
   "pygments_lexer": "ipython3",
   "version": "3.7.6"
  }
 },
 "nbformat": 4,
 "nbformat_minor": 4
}
