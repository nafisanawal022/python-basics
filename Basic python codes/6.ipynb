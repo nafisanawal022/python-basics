{
 "cells": [
  {
   "cell_type": "code",
   "execution_count": 4,
   "metadata": {},
   "outputs": [
    {
     "name": "stdout",
     "output_type": "stream",
     "text": [
      "6\n",
      "x\n",
      "7\n",
      "Let's Calculate!\n",
      "Value 1: 6\n",
      "Operator: x\n",
      "Value 2: 7\n",
      "Result:  42\n"
     ]
    }
   ],
   "source": [
    "class Calculator:\n",
    "    def __init__ (self,first_value,operator,second_value):\n",
    "        self.first_value=first_value\n",
    "        self.operator=operator\n",
    "        self.second_value=second_value\n",
    "        \n",
    "    \n",
    "    def add(self):\n",
    "        sum = self.first_value+self.second_value\n",
    "        return sum\n",
    "    \n",
    "    def subtract(self):\n",
    "        sum = self.first_value-self.second_value\n",
    "        return abs(sum)\n",
    "    \n",
    "    def multiply(self):\n",
    "        sum = self.first_value*self.second_value\n",
    "        return sum\n",
    "    \n",
    "    def divide(self):\n",
    "        if self.second_value==0:\n",
    "            return \"Invalid\"\n",
    "        else:\n",
    "            sum = first_value/second_value\n",
    "            return sum\n",
    "        \n",
    "\n",
    "first_value=int(input())\n",
    "operator = input()\n",
    "second_value= int(input())\n",
    "results=Calculator(first_value,operator,second_value)\n",
    "print(\"Let's Calculate!\")\n",
    "print(\"Value 1: \"+str(first_value))\n",
    "print(\"Operator: \"+str(operator))\n",
    "print(\"Value 2: \"+str(second_value))\n",
    "\n",
    "\n",
    "if operator==\"+\":\n",
    "    print(\"Result: \",str(results.add()))\n",
    "elif operator==\"-\":\n",
    "    print(\"Result: \",str(results.subtract()))\n",
    "elif operator==\"x\":\n",
    "    print(\"Result: \",str(results.multiply()))\n",
    "elif operator==\"÷\":\n",
    "    print(\"Result: \",str(results.divide()))\n",
    "else:\n",
    "    print(\"Error\")\n",
    "    "
   ]
  },
  {
   "cell_type": "code",
   "execution_count": 5,
   "metadata": {},
   "outputs": [
    {
     "name": "stdout",
     "output_type": "stream",
     "text": [
      "Hello!\n",
      "Sam, you purchased  3  item(s):\n",
      "chips\n",
      "chocolate\n",
      "orange juice\n",
      "-----------------------------\n",
      "Hello David !\n",
      "David, you purchased  1  item(s):\n",
      "orange juice\n"
     ]
    }
   ],
   "source": [
    "class Customer:\n",
    "    def __init__ (self,name):\n",
    "        self.name=name\n",
    "        \n",
    "    def greet(self,names=None):\n",
    "        self.names=names\n",
    "        if names != None:\n",
    "            print(\"Hello\",self.names,\"!\")\n",
    "        else:\n",
    "            print(\"Hello!\")\n",
    "        \n",
    "    def purchase(self,*args):\n",
    "        print(self.name+\", you purchased \",str(len(args)),\" item(s):\")\n",
    "        \n",
    "        for i in args:\n",
    "            print(i)\n",
    "            \n",
    "customer_1 = Customer(\"Sam\")\n",
    "customer_1.greet()\n",
    "customer_1.purchase(\"chips\", \"chocolate\", \"orange juice\")\n",
    "print(\"-----------------------------\")\n",
    "customer_2 = Customer(\"David\")\n",
    "customer_2.greet(\"David\")\n",
    "customer_2.purchase(\"orange juice\")\n",
    "    \n",
    "    "
   ]
  },
  {
   "cell_type": "code",
   "execution_count": 6,
   "metadata": {},
   "outputs": [
    {
     "name": "stdout",
     "output_type": "stream",
     "text": [
      "Kunfu is a Male Panda Bear who is 5 years old\n",
      "Pan Pan is a Female Panda Bear who is 3 years old\n",
      "Ming Ming is a Female Panda Bear who is 8 years old\n",
      "Pan Pan sleeps 10 hours daily and should have Broccoli Chicken\n",
      "Kunfu sleeps 4 hours daily and should have Mixed Veggies\n",
      "Ming Ming's duration is unknown thus should have only bamboo leaves\n"
     ]
    }
   ],
   "source": [
    "class Panda:\n",
    "    def __init__ (self,name,gender,age):\n",
    "        self.name=name\n",
    "        self.gender=gender\n",
    "        self.age=age\n",
    "        \n",
    "    def sleep(self,time=None):\n",
    "        if time!=None:\n",
    "            if time >=3 and time<=5:\n",
    "                return (self.name+\" sleeps \"+str(time)+\" hours daily and should have Mixed Veggies\")\n",
    "            elif time>=6 and time<=8:\n",
    "                return (self.name+\" sleeps \"+str(time)+\" hours daily and should have Eggplant & Tofu\")\n",
    "            elif time>=9 and time<=11:\n",
    "                return (self.name+\" sleeps \"+str(time)+\" hours daily and should have Broccoli Chicken\")\n",
    "            else:\n",
    "                return (\"Error\")\n",
    "        else:\n",
    "            return (self.name+\"'s duration is unknown thus should have only bamboo leaves\")\n",
    "        \n",
    "panda1 = Panda(\"Kunfu\",\"Male\", 5)\n",
    "panda2=Panda(\"Pan Pan\",\"Female\",3)\n",
    "panda3=Panda(\"Ming Ming\",\"Female\",8)\n",
    "print(\"{} is a {} Panda Bear who is {} years old\".format(panda1.name,panda1.gender,panda1.age))\n",
    "print(\"{} is a {} Panda Bear who is {} years old\".format(panda2.name,panda2.gender,panda2.age))\n",
    "print(\"{} is a {} Panda Bear who is {} years old\".format(panda3.name,panda3.gender,panda3.age))\n",
    "print(panda2.sleep(10))\n",
    "print(panda1.sleep(4))\n",
    "print(panda3.sleep())"
   ]
  },
  {
   "cell_type": "code",
   "execution_count": 7,
   "metadata": {},
   "outputs": [
    {
     "name": "stdout",
     "output_type": "stream",
     "text": [
      "White cat is sitting\n",
      "Black cat is sitting\n",
      "Brown cat is jumping\n",
      "Red cat is purring\n",
      "Blue cat is sitting\n",
      "Purple cat is jumping\n"
     ]
    }
   ],
   "source": [
    "class Cat:\n",
    "    def __init__ (self,*info):\n",
    "        if len(info)==2:\n",
    "            self.color=info[0]\n",
    "            self.activity=info[1]\n",
    "        elif len(info)==1:\n",
    "            self.color=info[0]\n",
    "            self.activity=\"sitting\"\n",
    "        elif len(info)==0:\n",
    "            self.color=\"White\"\n",
    "            self.activity=\"sitting\"\n",
    "        else:\n",
    "            print(\"Error\")\n",
    "            \n",
    "    def printCat (self):\n",
    "        print(self.color+\" cat is \"+self.activity)\n",
    "        \n",
    "    def changeColor (self,changed_color):\n",
    "        self.changed_color=changed_color\n",
    "        self.color=changed_color\n",
    "    \n",
    "            \n",
    "c1 = Cat()\n",
    "c2 = Cat(\"Black\")\n",
    "c3 = Cat(\"Brown\", \"jumping\")\n",
    "c4 = Cat(\"Red\", \"purring\")\n",
    "c1.printCat()\n",
    "c2.printCat()\n",
    "c3.printCat()\n",
    "c4.printCat()\n",
    "c1.changeColor(\"Blue\")\n",
    "c3.changeColor(\"Purple\")\n",
    "c1.printCat()\n",
    "c3.printCat()\n",
    "        "
   ]
  },
  {
   "cell_type": "code",
   "execution_count": 8,
   "metadata": {
    "scrolled": true
   },
   "outputs": [
    {
     "name": "stdout",
     "output_type": "stream",
     "text": [
      "(0,0)\n",
      "(0,1)\n",
      "(-1,1)\n",
      "(-1,0)\n"
     ]
    }
   ],
   "source": [
    "class Vehicle:\n",
    "    def __init__(self,x=0,y=0):\n",
    "        self.x=x\n",
    "        self.y=y\n",
    "\n",
    "    def moveUp(self):\n",
    "        self.y+=1\n",
    "    \n",
    "    def moveDown(self):\n",
    "        self.y-=1\n",
    "        \n",
    "    def moveLeft(self):\n",
    "        self.x-=1\n",
    "        \n",
    "    def moveRight(self):\n",
    "        self.x+=1\n",
    "        \n",
    "    def print_position(self):\n",
    "        print(\"(\"+str(self.x)+\",\"+str(self.y)+\")\")\n",
    "    \n",
    "car = Vehicle()\n",
    "car.print_position()\n",
    "car.moveUp()\n",
    "car.print_position()\n",
    "car.moveLeft()\n",
    "car.print_position()\n",
    "car.moveDown()\n",
    "car.print_position()\n",
    "car.moveRight()    \n",
    "    \n",
    "    \n",
    "    \n",
    "        \n",
    "    "
   ]
  },
  {
   "cell_type": "code",
   "execution_count": null,
   "metadata": {},
   "outputs": [],
   "source": []
  }
 ],
 "metadata": {
  "kernelspec": {
   "display_name": "Python 3",
   "language": "python",
   "name": "python3"
  },
  "language_info": {
   "codemirror_mode": {
    "name": "ipython",
    "version": 3
   },
   "file_extension": ".py",
   "mimetype": "text/x-python",
   "name": "python",
   "nbconvert_exporter": "python",
   "pygments_lexer": "ipython3",
   "version": "3.7.6"
  }
 },
 "nbformat": 4,
 "nbformat_minor": 4
}
