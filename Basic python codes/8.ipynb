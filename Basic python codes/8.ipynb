{
 "cells": [
  {
   "cell_type": "code",
   "execution_count": 1,
   "metadata": {},
   "outputs": [
    {
     "name": "stdout",
     "output_type": "stream",
     "text": [
      "Name: default Department: BBA\n",
      "Name: Humpty Dumpty Department: BBA\n",
      "Name: Little Bo Peep Department: BBA\n"
     ]
    }
   ],
   "source": [
    "class Student:\n",
    "    def __init__(self, name='Just a student', dept='nothing'):\n",
    "        self.__name = name\n",
    "        self.__department = dept\n",
    "    def set_department(self, dept):\n",
    "        self.__department = dept\n",
    "    def get_name(self):\n",
    "        return self.__name\n",
    "    def set_name(self,name):\n",
    "        self.__name = name\n",
    "    def __str__(self):\n",
    "        return 'Name: '+self.__name+' Department: '+self.__department\n",
    "        \n",
    "        \n",
    "class BBA_Student(Student):\n",
    "    def __init__(self,name=\"default\",dept=\"BBA\"):\n",
    "        self.__name=name\n",
    "        self.__department=dept\n",
    "        \n",
    "    def __str__(self):\n",
    "        return 'Name: '+self.__name+' Department: '+self.__department\n",
    "        \n",
    "    \n",
    "        \n",
    "    \n",
    "    \n",
    "        \n",
    "        \n",
    "\n",
    "    \n",
    "print(BBA_Student())\n",
    "print(BBA_Student('Humpty Dumpty'))\n",
    "print(BBA_Student('Little Bo Peep'))\n",
    "\n",
    "    "
   ]
  },
  {
   "cell_type": "code",
   "execution_count": 2,
   "metadata": {},
   "outputs": [
    {
     "name": "stdout",
     "output_type": "stream",
     "text": [
      "Part 1\n",
      "------\n",
      "(0 , 0)\n",
      "(0 , 1)\n",
      "(-1 , 1)\n",
      "(-1 , 0)\n",
      "(0 , 0)\n",
      "------\n",
      "Part 2\n",
      "------\n",
      "(0 , 0)\n",
      "(-1 , -1)\n",
      "False\n",
      "True\n",
      "------\n"
     ]
    }
   ],
   "source": [
    "class Vehicle:\n",
    "    def __init__(self):\n",
    "        self.x = 0\n",
    "        self.y = 0\n",
    "    def moveUp(self):\n",
    "        self.y+=1\n",
    "    def moveDown(self):\n",
    "        self.y-=1\n",
    "    def moveRight(self):\n",
    "        self.x+=1\n",
    "    def moveLeft(self):\n",
    "        self.x-=1\n",
    "    def __str__(self):\n",
    "        return '('+str(self.x)+' , '+str(self.y)+')'\n",
    "\n",
    "    \n",
    "class Vehicle2010(Vehicle):\n",
    "    def moveUpperRight(self):\n",
    "        self.x+=1\n",
    "        self.y+=1\n",
    "    def moveUpperLeft(self):\n",
    "        self.x-=1\n",
    "        self.y+=1\n",
    "    def moveLowerRight(self):\n",
    "        self.x+=1\n",
    "        self.y-=1\n",
    "    def moveLowerLeft(self):\n",
    "        self.x-=1\n",
    "        self.y-=1\n",
    "        \n",
    "    def equals(self,other):\n",
    "        if self.x==other.y:\n",
    "            return True\n",
    "        else:\n",
    "            return False\n",
    "        \n",
    "        \n",
    "print('Part 1')\n",
    "print('------')\n",
    "car = Vehicle()\n",
    "print(car)\n",
    "car.moveUp()\n",
    "print(car)\n",
    "car.moveLeft()\n",
    "print(car)\n",
    "car.moveDown()\n",
    "print(car)\n",
    "car.moveRight()\n",
    "print(car)\n",
    "print('------')\n",
    "print('Part 2')\n",
    "print('------')\n",
    "car1 = Vehicle2010()\n",
    "print(car1)\n",
    "car1.moveLowerLeft()\n",
    "print(car1)\n",
    "car2 = Vehicle2010()\n",
    "car2.moveLeft()\n",
    "print(car1.equals(car2))\n",
    "car2.moveDown()\n",
    "print(car1.equals(car2))\n",
    "print('------')\n",
    "\n",
    "    \n",
    "    "
   ]
  },
  {
   "cell_type": "code",
   "execution_count": 3,
   "metadata": {},
   "outputs": [
    {
     "name": "stdout",
     "output_type": "stream",
     "text": [
      "RealPart: 1.0\n",
      "ImaginaryPart: 1.0\n",
      "---------\n",
      "RealPart: 5.0\n",
      "ImaginaryPart: 7.0\n",
      "---------\n"
     ]
    }
   ],
   "source": [
    "class RealNumber:\n",
    "\n",
    "    def __init__(self, r=0):\n",
    "        self.__realValue = r\n",
    "    def getRealValue(self):\n",
    "        return self.__realValue\n",
    "    def setRealValue(self, r):\n",
    "        self.__realValue = r\n",
    "    def ping(self):\n",
    "        print('I am in RealNumber class')\n",
    "    def __str__(self):\n",
    "        return 'RealPart: '+str(self.getRealValue()) \n",
    "\n",
    "\n",
    "class ComplexNumber(RealNumber):\n",
    "    def __init__(self,r=1,i=1):\n",
    "        self.__realValue = float(r)\n",
    "        self.__imaginaryValue=float(i)\n",
    "    def getImaginaryValue(self):\n",
    "        return self.__imaginaryValue\n",
    "    def setImaginaryValue(self, i):\n",
    "        self.__imaginaryValue = i\n",
    "    def ping_complex(self):\n",
    "        print('I am in ComplexNumber class')\n",
    "    def getRealValue(self):\n",
    "        return self.__realValue\n",
    "    def __str__(self):\n",
    "        return 'RealPart: '+str(self.getRealValue())+'\\nImaginaryPart: '+str(self.getImaginaryValue()) \n",
    "cn1 = ComplexNumber()\n",
    "print(cn1)\n",
    "print('---------')\n",
    "cn2 = ComplexNumber(5,7)\n",
    "print(cn2)\n",
    "print('---------')\n"
   ]
  },
  {
   "cell_type": "code",
   "execution_count": 2,
   "metadata": {},
   "outputs": [
    {
     "name": "stdout",
     "output_type": "stream",
     "text": [
      "Number of Checking Accounts: 0\n",
      "Account Balance: 0.0\n",
      "Account Balance: 100.0\n",
      "Account Balance: 200.0\n",
      "Number of Checking Accounts: 3\n"
     ]
    }
   ],
   "source": [
    "class Account:\n",
    "    def __init__(self,balance):\n",
    "        self._balance = balance\n",
    "\n",
    "    def getBalance(self):\n",
    "        return self._balance\n",
    "\n",
    "class CheckingAccount(Account):\n",
    "    count=0\n",
    "    numberOfAccount=\"0\"\n",
    "    \n",
    "    def __init__(self,balance=0):\n",
    "        self.balance=balance\n",
    "        CheckingAccount.count+=1\n",
    "        CheckingAccount.numberOfAccount=str(CheckingAccount.count)\n",
    "        \n",
    "       \n",
    "    def __str__(self):\n",
    "        return \"Account Balance: \"+str(float(self.balance))\n",
    "    \n",
    "\n",
    "print('Number of Checking Accounts: '+CheckingAccount.numberOfAccount)\n",
    "print(CheckingAccount())\n",
    "print(CheckingAccount(100.00))\n",
    "print(CheckingAccount(200.00))\n",
    "print('Number of Checking Accounts: '+CheckingAccount.numberOfAccount)"
   ]
  },
  {
   "cell_type": "code",
   "execution_count": 5,
   "metadata": {},
   "outputs": [
    {
     "name": "stdout",
     "output_type": "stream",
     "text": [
      "Animal does not make sound\n",
      "meow\n",
      "bark\n"
     ]
    }
   ],
   "source": [
    "class Animal:\n",
    "    def __init__(self,sound):\n",
    "        self.__sound = sound\n",
    "\n",
    "    def makeSound(self):\n",
    "        return self.__sound\n",
    "    \n",
    "class Printer:\n",
    "    def printSound(self, a):\n",
    "        print(a.makeSound())\n",
    "        \n",
    "class Dog(Animal):\n",
    "    pass\n",
    "       \n",
    "class Cat(Animal):\n",
    "    pass\n",
    "    \n",
    "\n",
    "d1 = Dog('bark')\n",
    "c1 = Cat('meow')\n",
    "a1 = Animal('Animal does not make sound')\n",
    "pr = Printer()\n",
    "pr.printSound(a1)\n",
    "pr.printSound(c1)\n",
    "pr.printSound(d1)\n",
    "   "
   ]
  },
  {
   "cell_type": "code",
   "execution_count": 1,
   "metadata": {
    "scrolled": true
   },
   "outputs": [
    {
     "name": "stdout",
     "output_type": "stream",
     "text": [
      "----Printing Detail----\n",
      "Do not eat the Mango.\n"
     ]
    },
    {
     "ename": "AttributeError",
     "evalue": "'Mango' object has no attribute '_Class__formalin'",
     "output_type": "error",
     "traceback": [
      "\u001b[1;31m---------------------------------------------------------------------------\u001b[0m",
      "\u001b[1;31mAttributeError\u001b[0m                            Traceback (most recent call last)",
      "\u001b[1;32m<ipython-input-1-af8fd5528b5b>\u001b[0m in \u001b[0;36m<module>\u001b[1;34m\u001b[0m\n\u001b[0;32m     52\u001b[0m \u001b[0mj\u001b[0m \u001b[1;33m=\u001b[0m \u001b[0mJackfruit\u001b[0m\u001b[1;33m(\u001b[0m\u001b[1;33m)\u001b[0m\u001b[1;33m\u001b[0m\u001b[1;33m\u001b[0m\u001b[0m\n\u001b[0;32m     53\u001b[0m \u001b[0mt1\u001b[0m \u001b[1;33m=\u001b[0m \u001b[0mtestFruit\u001b[0m\u001b[1;33m(\u001b[0m\u001b[1;33m)\u001b[0m\u001b[1;33m\u001b[0m\u001b[1;33m\u001b[0m\u001b[0m\n\u001b[1;32m---> 54\u001b[1;33m \u001b[0mt1\u001b[0m\u001b[1;33m.\u001b[0m\u001b[0mtest\u001b[0m\u001b[1;33m(\u001b[0m\u001b[0mm\u001b[0m\u001b[1;33m)\u001b[0m\u001b[1;33m\u001b[0m\u001b[1;33m\u001b[0m\u001b[0m\n\u001b[0m\u001b[0;32m     55\u001b[0m \u001b[0mt1\u001b[0m\u001b[1;33m.\u001b[0m\u001b[0mtest\u001b[0m\u001b[1;33m(\u001b[0m\u001b[0mj\u001b[0m\u001b[1;33m)\u001b[0m\u001b[1;33m\u001b[0m\u001b[1;33m\u001b[0m\u001b[0m\n",
      "\u001b[1;32m<ipython-input-1-af8fd5528b5b>\u001b[0m in \u001b[0;36mtest\u001b[1;34m(self, f)\u001b[0m\n\u001b[0;32m     22\u001b[0m         \u001b[1;32mif\u001b[0m \u001b[0mf\u001b[0m\u001b[1;33m.\u001b[0m\u001b[0mhasFormalin\u001b[0m\u001b[1;33m(\u001b[0m\u001b[1;33m)\u001b[0m\u001b[1;33m:\u001b[0m\u001b[1;33m\u001b[0m\u001b[1;33m\u001b[0m\u001b[0m\n\u001b[0;32m     23\u001b[0m             \u001b[0mprint\u001b[0m\u001b[1;33m(\u001b[0m\u001b[1;34m'Do not eat the'\u001b[0m\u001b[1;33m,\u001b[0m\u001b[0mf\u001b[0m\u001b[1;33m.\u001b[0m\u001b[0mgetName\u001b[0m\u001b[1;33m(\u001b[0m\u001b[1;33m)\u001b[0m\u001b[1;33m+\u001b[0m\u001b[1;34m'.'\u001b[0m\u001b[1;33m)\u001b[0m\u001b[1;33m\u001b[0m\u001b[1;33m\u001b[0m\u001b[0m\n\u001b[1;32m---> 24\u001b[1;33m             \u001b[0mprint\u001b[0m\u001b[1;33m(\u001b[0m\u001b[0mf\u001b[0m\u001b[1;33m)\u001b[0m\u001b[1;33m\u001b[0m\u001b[1;33m\u001b[0m\u001b[0m\n\u001b[0m\u001b[0;32m     25\u001b[0m         \u001b[1;32melse\u001b[0m\u001b[1;33m:\u001b[0m\u001b[1;33m\u001b[0m\u001b[1;33m\u001b[0m\u001b[0m\n\u001b[0;32m     26\u001b[0m             \u001b[0mprint\u001b[0m\u001b[1;33m(\u001b[0m\u001b[1;34m'Eat the'\u001b[0m\u001b[1;33m,\u001b[0m\u001b[0mf\u001b[0m\u001b[1;33m.\u001b[0m\u001b[0mgetName\u001b[0m\u001b[1;33m(\u001b[0m\u001b[1;33m)\u001b[0m\u001b[1;33m+\u001b[0m\u001b[1;34m'.'\u001b[0m\u001b[1;33m)\u001b[0m\u001b[1;33m\u001b[0m\u001b[1;33m\u001b[0m\u001b[0m\n",
      "\u001b[1;32m<ipython-input-1-af8fd5528b5b>\u001b[0m in \u001b[0;36m__str__\u001b[1;34m(self)\u001b[0m\n\u001b[0;32m     11\u001b[0m \u001b[1;33m\u001b[0m\u001b[0m\n\u001b[0;32m     12\u001b[0m     \u001b[1;32mdef\u001b[0m \u001b[0m__str__\u001b[0m\u001b[1;33m(\u001b[0m\u001b[0mself\u001b[0m\u001b[1;33m)\u001b[0m\u001b[1;33m:\u001b[0m\u001b[1;33m\u001b[0m\u001b[1;33m\u001b[0m\u001b[0m\n\u001b[1;32m---> 13\u001b[1;33m         \u001b[1;32mif\u001b[0m \u001b[0mself\u001b[0m\u001b[1;33m.\u001b[0m\u001b[0m_Class__formalin\u001b[0m\u001b[1;33m==\u001b[0m\u001b[1;32mTrue\u001b[0m\u001b[1;33m:\u001b[0m\u001b[1;33m\u001b[0m\u001b[1;33m\u001b[0m\u001b[0m\n\u001b[0m\u001b[0;32m     14\u001b[0m             \u001b[1;32mreturn\u001b[0m \u001b[1;33m(\u001b[0m\u001b[0mself\u001b[0m\u001b[1;33m.\u001b[0m\u001b[0mname\u001b[0m\u001b[1;33m+\u001b[0m\u001b[1;34m\"s are bad for you\"\u001b[0m\u001b[1;33m)\u001b[0m\u001b[1;33m\u001b[0m\u001b[1;33m\u001b[0m\u001b[0m\n\u001b[0;32m     15\u001b[0m         \u001b[1;32melse\u001b[0m\u001b[1;33m:\u001b[0m\u001b[1;33m\u001b[0m\u001b[1;33m\u001b[0m\u001b[0m\n",
      "\u001b[1;31mAttributeError\u001b[0m: 'Mango' object has no attribute '_Class__formalin'"
     ]
    }
   ],
   "source": [
    "class Fruit:\n",
    "    def __init__(self, formalin=False, name=''):\n",
    "        self.__formalin = formalin\n",
    "        self.name = name\n",
    "\n",
    "    def getName(self):\n",
    "        return self.name\n",
    "\n",
    "    def hasFormalin(self):\n",
    "        return self.__formalin\n",
    "    \n",
    "    def __str__(self):\n",
    "        if self._Class__formalin==True:\n",
    "            return (self.name+\"s are bad for you\")\n",
    "        else:\n",
    "            return (self.name+\"s are good for you\")\n",
    "    \n",
    "    \n",
    "class testFruit:\n",
    "    def test(self, f):\n",
    "        print('----Printing Detail----')\n",
    "        if f.hasFormalin():\n",
    "            print('Do not eat the',f.getName()+'.')\n",
    "            print(f)\n",
    "        else:\n",
    "            print('Eat the',f.getName()+'.')\n",
    "            print(f)\n",
    "            \n",
    "            \n",
    "                \n",
    "class Mango(Fruit):\n",
    "    def __init__(self, formalin=True, name=\"Mango\"):\n",
    "        self.formalin = formalin\n",
    "        self.name = name\n",
    "        \n",
    "    def hasFormalin(self):\n",
    "        return self.formalin\n",
    "    \n",
    "    \n",
    "\n",
    "class Jackfruit(Fruit):\n",
    "    def __init__(self, formalin=False, name=\"Jackfruit\"):\n",
    "        self.formalin = formalin\n",
    "        self.name = name\n",
    "        \n",
    "    def hasFormalin(self):\n",
    "        return self.formalin\n",
    "\n",
    "\n",
    "\n",
    "m = Mango()\n",
    "j = Jackfruit()\n",
    "t1 = testFruit()\n",
    "t1.test(m)\n",
    "t1.test(j)\n"
   ]
  },
  {
   "cell_type": "code",
   "execution_count": null,
   "metadata": {},
   "outputs": [],
   "source": []
  },
  {
   "cell_type": "code",
   "execution_count": null,
   "metadata": {},
   "outputs": [],
   "source": []
  }
 ],
 "metadata": {
  "kernelspec": {
   "display_name": "Python 3",
   "language": "python",
   "name": "python3"
  },
  "language_info": {
   "codemirror_mode": {
    "name": "ipython",
    "version": 3
   },
   "file_extension": ".py",
   "mimetype": "text/x-python",
   "name": "python",
   "nbconvert_exporter": "python",
   "pygments_lexer": "ipython3",
   "version": "3.7.6"
  }
 },
 "nbformat": 4,
 "nbformat_minor": 4
}
